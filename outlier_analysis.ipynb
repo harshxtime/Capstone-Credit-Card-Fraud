{
 "cells": [
  {
   "cell_type": "code",
   "execution_count": null,
   "id": "abd5450f",
   "metadata": {},
   "outputs": [],
   "source": [
    "df_train_outlier = df_train.copy()\n",
    "df_test_outlier = df_test.copy()"
   ]
  },
  {
   "cell_type": "code",
   "execution_count": null,
   "id": "91976f20",
   "metadata": {},
   "outputs": [],
   "source": [
    "df_train_outlier[['amt','city_pop','age','weekday_no','week_no','day_no','min_day','hr_day','month','year','year_dayno','dist_same_origin_co-ord(kms)','distance_successive_co-ord(kms)','distance_people_to_merchant_co-ord(kms)','delta_time(sec)','delta_time_elapsed(days)']].describe(percentiles=[0.01, 0.05, 0.1, 0.25, 0.5, 0.75, 0.9, 0.95, 0.99]).apply(lambda s: s.apply('{0:.5f}'.format)) "
   ]
  },
  {
   "cell_type": "code",
   "execution_count": null,
   "id": "9b4a9b68",
   "metadata": {},
   "outputs": [],
   "source": [
    "col_data1 = ['amt','city_pop','age','weekday_no','week_no','day_no','min_day','hr_day','month','year','year_dayno','dist_same_origin_co-ord(kms)','distance_successive_co-ord(kms)','distance_people_to_merchant_co-ord(kms)','delta_time(sec)','delta_time_elapsed(days)']\n",
    "\n",
    "plt.figure(figsize=(30,20))\n",
    "for i in enumerate(col_data1):\n",
    "    plt.subplot(4,4,i[0]+1)\n",
    "    sns.boxplot(df_train_outlier[i[1]])"
   ]
  }
 ],
 "metadata": {
  "kernelspec": {
   "display_name": "Python 3 (ipykernel)",
   "language": "python",
   "name": "python3"
  },
  "language_info": {
   "codemirror_mode": {
    "name": "ipython",
    "version": 3
   },
   "file_extension": ".py",
   "mimetype": "text/x-python",
   "name": "python",
   "nbconvert_exporter": "python",
   "pygments_lexer": "ipython3",
   "version": "3.9.7"
  }
 },
 "nbformat": 4,
 "nbformat_minor": 5
}
