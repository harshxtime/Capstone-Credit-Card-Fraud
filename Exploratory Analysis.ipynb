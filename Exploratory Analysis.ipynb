{
 "cells": [
  {
   "cell_type": "code",
   "execution_count": 5,
   "id": "26cf5a55",
   "metadata": {},
   "outputs": [],
   "source": [
    "import numpy as np\n",
    "import pandas as pd\n",
    "import matplotlib.pyplot as plt\n",
    "import seaborn as sns\n",
    "from datetime import datetime"
   ]
  },
  {
   "cell_type": "code",
   "execution_count": 6,
   "id": "70f24df9",
   "metadata": {},
   "outputs": [],
   "source": [
    "data = pd.read_csv(\"Data_Detailed/frauddata_detailed.csv\")"
   ]
  },
  {
   "cell_type": "code",
   "execution_count": 7,
   "id": "591f34bb",
   "metadata": {},
   "outputs": [
    {
     "data": {
      "text/plain": [
       "Index(['Unnamed: 0', 'trans_date_trans_time', 'cc_num', 'merchant', 'category',\n",
       "       'amt', 'first', 'last', 'gender', 'street', 'city', 'state', 'zip',\n",
       "       'lat', 'long', 'city_pop', 'job', 'dob', 'trans_num', 'unix_time',\n",
       "       'merch_lat', 'merch_long', 'is_fraud'],\n",
       "      dtype='object')"
      ]
     },
     "execution_count": 7,
     "metadata": {},
     "output_type": "execute_result"
    }
   ],
   "source": [
    "data.columns"
   ]
  },
  {
   "cell_type": "code",
   "execution_count": 8,
   "id": "9f7612b5",
   "metadata": {},
   "outputs": [
    {
     "data": {
      "text/html": [
       "<div>\n",
       "<style scoped>\n",
       "    .dataframe tbody tr th:only-of-type {\n",
       "        vertical-align: middle;\n",
       "    }\n",
       "\n",
       "    .dataframe tbody tr th {\n",
       "        vertical-align: top;\n",
       "    }\n",
       "\n",
       "    .dataframe thead th {\n",
       "        text-align: right;\n",
       "    }\n",
       "</style>\n",
       "<table border=\"1\" class=\"dataframe\">\n",
       "  <thead>\n",
       "    <tr style=\"text-align: right;\">\n",
       "      <th></th>\n",
       "      <th>Unnamed: 0</th>\n",
       "      <th>trans_date_trans_time</th>\n",
       "      <th>cc_num</th>\n",
       "      <th>merchant</th>\n",
       "      <th>category</th>\n",
       "      <th>amt</th>\n",
       "      <th>first</th>\n",
       "      <th>last</th>\n",
       "      <th>gender</th>\n",
       "      <th>street</th>\n",
       "      <th>...</th>\n",
       "      <th>lat</th>\n",
       "      <th>long</th>\n",
       "      <th>city_pop</th>\n",
       "      <th>job</th>\n",
       "      <th>dob</th>\n",
       "      <th>trans_num</th>\n",
       "      <th>unix_time</th>\n",
       "      <th>merch_lat</th>\n",
       "      <th>merch_long</th>\n",
       "      <th>is_fraud</th>\n",
       "    </tr>\n",
       "  </thead>\n",
       "  <tbody>\n",
       "    <tr>\n",
       "      <th>0</th>\n",
       "      <td>0</td>\n",
       "      <td>2019-01-01 00:00:18</td>\n",
       "      <td>2703186189652095</td>\n",
       "      <td>fraud_Rippin, Kub and Mann</td>\n",
       "      <td>misc_net</td>\n",
       "      <td>4.97</td>\n",
       "      <td>Jennifer</td>\n",
       "      <td>Banks</td>\n",
       "      <td>F</td>\n",
       "      <td>561 Perry Cove</td>\n",
       "      <td>...</td>\n",
       "      <td>36.0788</td>\n",
       "      <td>-81.1781</td>\n",
       "      <td>3495</td>\n",
       "      <td>Psychologist, counselling</td>\n",
       "      <td>1988-03-09</td>\n",
       "      <td>0b242abb623afc578575680df30655b9</td>\n",
       "      <td>1325376018</td>\n",
       "      <td>36.011293</td>\n",
       "      <td>-82.048315</td>\n",
       "      <td>0</td>\n",
       "    </tr>\n",
       "    <tr>\n",
       "      <th>1</th>\n",
       "      <td>1</td>\n",
       "      <td>2019-01-01 00:00:44</td>\n",
       "      <td>630423337322</td>\n",
       "      <td>fraud_Heller, Gutmann and Zieme</td>\n",
       "      <td>grocery_pos</td>\n",
       "      <td>107.23</td>\n",
       "      <td>Stephanie</td>\n",
       "      <td>Gill</td>\n",
       "      <td>F</td>\n",
       "      <td>43039 Riley Greens Suite 393</td>\n",
       "      <td>...</td>\n",
       "      <td>48.8878</td>\n",
       "      <td>-118.2105</td>\n",
       "      <td>149</td>\n",
       "      <td>Special educational needs teacher</td>\n",
       "      <td>1978-06-21</td>\n",
       "      <td>1f76529f8574734946361c461b024d99</td>\n",
       "      <td>1325376044</td>\n",
       "      <td>49.159047</td>\n",
       "      <td>-118.186462</td>\n",
       "      <td>0</td>\n",
       "    </tr>\n",
       "    <tr>\n",
       "      <th>2</th>\n",
       "      <td>2</td>\n",
       "      <td>2019-01-01 00:00:51</td>\n",
       "      <td>38859492057661</td>\n",
       "      <td>fraud_Lind-Buckridge</td>\n",
       "      <td>entertainment</td>\n",
       "      <td>220.11</td>\n",
       "      <td>Edward</td>\n",
       "      <td>Sanchez</td>\n",
       "      <td>M</td>\n",
       "      <td>594 White Dale Suite 530</td>\n",
       "      <td>...</td>\n",
       "      <td>42.1808</td>\n",
       "      <td>-112.2620</td>\n",
       "      <td>4154</td>\n",
       "      <td>Nature conservation officer</td>\n",
       "      <td>1962-01-19</td>\n",
       "      <td>a1a22d70485983eac12b5b88dad1cf95</td>\n",
       "      <td>1325376051</td>\n",
       "      <td>43.150704</td>\n",
       "      <td>-112.154481</td>\n",
       "      <td>0</td>\n",
       "    </tr>\n",
       "    <tr>\n",
       "      <th>3</th>\n",
       "      <td>3</td>\n",
       "      <td>2019-01-01 00:01:16</td>\n",
       "      <td>3534093764340240</td>\n",
       "      <td>fraud_Kutch, Hermiston and Farrell</td>\n",
       "      <td>gas_transport</td>\n",
       "      <td>45.00</td>\n",
       "      <td>Jeremy</td>\n",
       "      <td>White</td>\n",
       "      <td>M</td>\n",
       "      <td>9443 Cynthia Court Apt. 038</td>\n",
       "      <td>...</td>\n",
       "      <td>46.2306</td>\n",
       "      <td>-112.1138</td>\n",
       "      <td>1939</td>\n",
       "      <td>Patent attorney</td>\n",
       "      <td>1967-01-12</td>\n",
       "      <td>6b849c168bdad6f867558c3793159a81</td>\n",
       "      <td>1325376076</td>\n",
       "      <td>47.034331</td>\n",
       "      <td>-112.561071</td>\n",
       "      <td>0</td>\n",
       "    </tr>\n",
       "    <tr>\n",
       "      <th>4</th>\n",
       "      <td>4</td>\n",
       "      <td>2019-01-01 00:03:06</td>\n",
       "      <td>375534208663984</td>\n",
       "      <td>fraud_Keeling-Crist</td>\n",
       "      <td>misc_pos</td>\n",
       "      <td>41.96</td>\n",
       "      <td>Tyler</td>\n",
       "      <td>Garcia</td>\n",
       "      <td>M</td>\n",
       "      <td>408 Bradley Rest</td>\n",
       "      <td>...</td>\n",
       "      <td>38.4207</td>\n",
       "      <td>-79.4629</td>\n",
       "      <td>99</td>\n",
       "      <td>Dance movement psychotherapist</td>\n",
       "      <td>1986-03-28</td>\n",
       "      <td>a41d7549acf90789359a9aa5346dcb46</td>\n",
       "      <td>1325376186</td>\n",
       "      <td>38.674999</td>\n",
       "      <td>-78.632459</td>\n",
       "      <td>0</td>\n",
       "    </tr>\n",
       "  </tbody>\n",
       "</table>\n",
       "<p>5 rows × 23 columns</p>\n",
       "</div>"
      ],
      "text/plain": [
       "   Unnamed: 0 trans_date_trans_time            cc_num  \\\n",
       "0           0   2019-01-01 00:00:18  2703186189652095   \n",
       "1           1   2019-01-01 00:00:44      630423337322   \n",
       "2           2   2019-01-01 00:00:51    38859492057661   \n",
       "3           3   2019-01-01 00:01:16  3534093764340240   \n",
       "4           4   2019-01-01 00:03:06   375534208663984   \n",
       "\n",
       "                             merchant       category     amt      first  \\\n",
       "0          fraud_Rippin, Kub and Mann       misc_net    4.97   Jennifer   \n",
       "1     fraud_Heller, Gutmann and Zieme    grocery_pos  107.23  Stephanie   \n",
       "2                fraud_Lind-Buckridge  entertainment  220.11     Edward   \n",
       "3  fraud_Kutch, Hermiston and Farrell  gas_transport   45.00     Jeremy   \n",
       "4                 fraud_Keeling-Crist       misc_pos   41.96      Tyler   \n",
       "\n",
       "      last gender                        street  ...      lat      long  \\\n",
       "0    Banks      F                561 Perry Cove  ...  36.0788  -81.1781   \n",
       "1     Gill      F  43039 Riley Greens Suite 393  ...  48.8878 -118.2105   \n",
       "2  Sanchez      M      594 White Dale Suite 530  ...  42.1808 -112.2620   \n",
       "3    White      M   9443 Cynthia Court Apt. 038  ...  46.2306 -112.1138   \n",
       "4   Garcia      M              408 Bradley Rest  ...  38.4207  -79.4629   \n",
       "\n",
       "   city_pop                                job         dob  \\\n",
       "0      3495          Psychologist, counselling  1988-03-09   \n",
       "1       149  Special educational needs teacher  1978-06-21   \n",
       "2      4154        Nature conservation officer  1962-01-19   \n",
       "3      1939                    Patent attorney  1967-01-12   \n",
       "4        99     Dance movement psychotherapist  1986-03-28   \n",
       "\n",
       "                          trans_num   unix_time  merch_lat  merch_long  \\\n",
       "0  0b242abb623afc578575680df30655b9  1325376018  36.011293  -82.048315   \n",
       "1  1f76529f8574734946361c461b024d99  1325376044  49.159047 -118.186462   \n",
       "2  a1a22d70485983eac12b5b88dad1cf95  1325376051  43.150704 -112.154481   \n",
       "3  6b849c168bdad6f867558c3793159a81  1325376076  47.034331 -112.561071   \n",
       "4  a41d7549acf90789359a9aa5346dcb46  1325376186  38.674999  -78.632459   \n",
       "\n",
       "   is_fraud  \n",
       "0         0  \n",
       "1         0  \n",
       "2         0  \n",
       "3         0  \n",
       "4         0  \n",
       "\n",
       "[5 rows x 23 columns]"
      ]
     },
     "execution_count": 8,
     "metadata": {},
     "output_type": "execute_result"
    }
   ],
   "source": [
    "data.head(5)"
   ]
  },
  {
   "cell_type": "code",
   "execution_count": 9,
   "id": "0ff7f7f0",
   "metadata": {},
   "outputs": [
    {
     "data": {
      "text/html": [
       "<div>\n",
       "<style scoped>\n",
       "    .dataframe tbody tr th:only-of-type {\n",
       "        vertical-align: middle;\n",
       "    }\n",
       "\n",
       "    .dataframe tbody tr th {\n",
       "        vertical-align: top;\n",
       "    }\n",
       "\n",
       "    .dataframe thead th {\n",
       "        text-align: right;\n",
       "    }\n",
       "</style>\n",
       "<table border=\"1\" class=\"dataframe\">\n",
       "  <thead>\n",
       "    <tr style=\"text-align: right;\">\n",
       "      <th></th>\n",
       "      <th>Unnamed: 0</th>\n",
       "      <th>trans_date_trans_time</th>\n",
       "      <th>cc_num</th>\n",
       "      <th>merchant</th>\n",
       "      <th>category</th>\n",
       "      <th>amt</th>\n",
       "      <th>first</th>\n",
       "      <th>last</th>\n",
       "      <th>gender</th>\n",
       "      <th>street</th>\n",
       "      <th>...</th>\n",
       "      <th>lat</th>\n",
       "      <th>long</th>\n",
       "      <th>city_pop</th>\n",
       "      <th>job</th>\n",
       "      <th>dob</th>\n",
       "      <th>trans_num</th>\n",
       "      <th>unix_time</th>\n",
       "      <th>merch_lat</th>\n",
       "      <th>merch_long</th>\n",
       "      <th>is_fraud</th>\n",
       "    </tr>\n",
       "  </thead>\n",
       "  <tbody>\n",
       "    <tr>\n",
       "      <th>1296670</th>\n",
       "      <td>1296670</td>\n",
       "      <td>2020-06-21 12:12:08</td>\n",
       "      <td>30263540414123</td>\n",
       "      <td>fraud_Reichel Inc</td>\n",
       "      <td>entertainment</td>\n",
       "      <td>15.56</td>\n",
       "      <td>Erik</td>\n",
       "      <td>Patterson</td>\n",
       "      <td>M</td>\n",
       "      <td>162 Jessica Row Apt. 072</td>\n",
       "      <td>...</td>\n",
       "      <td>37.7175</td>\n",
       "      <td>-112.4777</td>\n",
       "      <td>258</td>\n",
       "      <td>Geoscientist</td>\n",
       "      <td>1961-11-24</td>\n",
       "      <td>440b587732da4dc1a6395aba5fb41669</td>\n",
       "      <td>1371816728</td>\n",
       "      <td>36.841266</td>\n",
       "      <td>-111.690765</td>\n",
       "      <td>0</td>\n",
       "    </tr>\n",
       "    <tr>\n",
       "      <th>1296671</th>\n",
       "      <td>1296671</td>\n",
       "      <td>2020-06-21 12:12:19</td>\n",
       "      <td>6011149206456997</td>\n",
       "      <td>fraud_Abernathy and Sons</td>\n",
       "      <td>food_dining</td>\n",
       "      <td>51.70</td>\n",
       "      <td>Jeffrey</td>\n",
       "      <td>White</td>\n",
       "      <td>M</td>\n",
       "      <td>8617 Holmes Terrace Suite 651</td>\n",
       "      <td>...</td>\n",
       "      <td>39.2667</td>\n",
       "      <td>-77.5101</td>\n",
       "      <td>100</td>\n",
       "      <td>Production assistant, television</td>\n",
       "      <td>1979-12-11</td>\n",
       "      <td>278000d2e0d2277d1de2f890067dcc0a</td>\n",
       "      <td>1371816739</td>\n",
       "      <td>38.906881</td>\n",
       "      <td>-78.246528</td>\n",
       "      <td>0</td>\n",
       "    </tr>\n",
       "    <tr>\n",
       "      <th>1296672</th>\n",
       "      <td>1296672</td>\n",
       "      <td>2020-06-21 12:12:32</td>\n",
       "      <td>3514865930894695</td>\n",
       "      <td>fraud_Stiedemann Ltd</td>\n",
       "      <td>food_dining</td>\n",
       "      <td>105.93</td>\n",
       "      <td>Christopher</td>\n",
       "      <td>Castaneda</td>\n",
       "      <td>M</td>\n",
       "      <td>1632 Cohen Drive Suite 639</td>\n",
       "      <td>...</td>\n",
       "      <td>32.9396</td>\n",
       "      <td>-105.8189</td>\n",
       "      <td>899</td>\n",
       "      <td>Naval architect</td>\n",
       "      <td>1967-08-30</td>\n",
       "      <td>483f52fe67fabef353d552c1e662974c</td>\n",
       "      <td>1371816752</td>\n",
       "      <td>33.619513</td>\n",
       "      <td>-105.130529</td>\n",
       "      <td>0</td>\n",
       "    </tr>\n",
       "    <tr>\n",
       "      <th>1296673</th>\n",
       "      <td>1296673</td>\n",
       "      <td>2020-06-21 12:13:36</td>\n",
       "      <td>2720012583106919</td>\n",
       "      <td>fraud_Reinger, Weissnat and Strosin</td>\n",
       "      <td>food_dining</td>\n",
       "      <td>74.90</td>\n",
       "      <td>Joseph</td>\n",
       "      <td>Murray</td>\n",
       "      <td>M</td>\n",
       "      <td>42933 Ryan Underpass</td>\n",
       "      <td>...</td>\n",
       "      <td>43.3526</td>\n",
       "      <td>-102.5411</td>\n",
       "      <td>1126</td>\n",
       "      <td>Volunteer coordinator</td>\n",
       "      <td>1980-08-18</td>\n",
       "      <td>d667cdcbadaaed3da3f4020e83591c83</td>\n",
       "      <td>1371816816</td>\n",
       "      <td>42.788940</td>\n",
       "      <td>-103.241160</td>\n",
       "      <td>0</td>\n",
       "    </tr>\n",
       "    <tr>\n",
       "      <th>1296674</th>\n",
       "      <td>1296674</td>\n",
       "      <td>2020-06-21 12:13:37</td>\n",
       "      <td>4292902571056973207</td>\n",
       "      <td>fraud_Langosh, Wintheiser and Hyatt</td>\n",
       "      <td>food_dining</td>\n",
       "      <td>4.30</td>\n",
       "      <td>Jeffrey</td>\n",
       "      <td>Smith</td>\n",
       "      <td>M</td>\n",
       "      <td>135 Joseph Mountains</td>\n",
       "      <td>...</td>\n",
       "      <td>45.8433</td>\n",
       "      <td>-113.8748</td>\n",
       "      <td>218</td>\n",
       "      <td>Therapist, horticultural</td>\n",
       "      <td>1995-08-16</td>\n",
       "      <td>8f7c8e4ab7f25875d753b422917c98c9</td>\n",
       "      <td>1371816817</td>\n",
       "      <td>46.565983</td>\n",
       "      <td>-114.186110</td>\n",
       "      <td>0</td>\n",
       "    </tr>\n",
       "  </tbody>\n",
       "</table>\n",
       "<p>5 rows × 23 columns</p>\n",
       "</div>"
      ],
      "text/plain": [
       "         Unnamed: 0 trans_date_trans_time               cc_num  \\\n",
       "1296670     1296670   2020-06-21 12:12:08       30263540414123   \n",
       "1296671     1296671   2020-06-21 12:12:19     6011149206456997   \n",
       "1296672     1296672   2020-06-21 12:12:32     3514865930894695   \n",
       "1296673     1296673   2020-06-21 12:13:36     2720012583106919   \n",
       "1296674     1296674   2020-06-21 12:13:37  4292902571056973207   \n",
       "\n",
       "                                    merchant       category     amt  \\\n",
       "1296670                    fraud_Reichel Inc  entertainment   15.56   \n",
       "1296671             fraud_Abernathy and Sons    food_dining   51.70   \n",
       "1296672                 fraud_Stiedemann Ltd    food_dining  105.93   \n",
       "1296673  fraud_Reinger, Weissnat and Strosin    food_dining   74.90   \n",
       "1296674  fraud_Langosh, Wintheiser and Hyatt    food_dining    4.30   \n",
       "\n",
       "               first       last gender                         street  ...  \\\n",
       "1296670         Erik  Patterson      M       162 Jessica Row Apt. 072  ...   \n",
       "1296671      Jeffrey      White      M  8617 Holmes Terrace Suite 651  ...   \n",
       "1296672  Christopher  Castaneda      M     1632 Cohen Drive Suite 639  ...   \n",
       "1296673       Joseph     Murray      M           42933 Ryan Underpass  ...   \n",
       "1296674      Jeffrey      Smith      M           135 Joseph Mountains  ...   \n",
       "\n",
       "             lat      long  city_pop                               job  \\\n",
       "1296670  37.7175 -112.4777       258                      Geoscientist   \n",
       "1296671  39.2667  -77.5101       100  Production assistant, television   \n",
       "1296672  32.9396 -105.8189       899                   Naval architect   \n",
       "1296673  43.3526 -102.5411      1126             Volunteer coordinator   \n",
       "1296674  45.8433 -113.8748       218          Therapist, horticultural   \n",
       "\n",
       "                dob                         trans_num   unix_time  merch_lat  \\\n",
       "1296670  1961-11-24  440b587732da4dc1a6395aba5fb41669  1371816728  36.841266   \n",
       "1296671  1979-12-11  278000d2e0d2277d1de2f890067dcc0a  1371816739  38.906881   \n",
       "1296672  1967-08-30  483f52fe67fabef353d552c1e662974c  1371816752  33.619513   \n",
       "1296673  1980-08-18  d667cdcbadaaed3da3f4020e83591c83  1371816816  42.788940   \n",
       "1296674  1995-08-16  8f7c8e4ab7f25875d753b422917c98c9  1371816817  46.565983   \n",
       "\n",
       "         merch_long  is_fraud  \n",
       "1296670 -111.690765         0  \n",
       "1296671  -78.246528         0  \n",
       "1296672 -105.130529         0  \n",
       "1296673 -103.241160         0  \n",
       "1296674 -114.186110         0  \n",
       "\n",
       "[5 rows x 23 columns]"
      ]
     },
     "execution_count": 9,
     "metadata": {},
     "output_type": "execute_result"
    }
   ],
   "source": [
    "data.tail(5)"
   ]
  },
  {
   "cell_type": "code",
   "execution_count": 10,
   "id": "fc3a28bf",
   "metadata": {},
   "outputs": [
    {
     "name": "stdout",
     "output_type": "stream",
     "text": [
      "<class 'pandas.core.frame.DataFrame'>\n",
      "RangeIndex: 1296675 entries, 0 to 1296674\n",
      "Data columns (total 23 columns):\n",
      " #   Column                 Non-Null Count    Dtype  \n",
      "---  ------                 --------------    -----  \n",
      " 0   Unnamed: 0             1296675 non-null  int64  \n",
      " 1   trans_date_trans_time  1296675 non-null  object \n",
      " 2   cc_num                 1296675 non-null  int64  \n",
      " 3   merchant               1296675 non-null  object \n",
      " 4   category               1296675 non-null  object \n",
      " 5   amt                    1296675 non-null  float64\n",
      " 6   first                  1296675 non-null  object \n",
      " 7   last                   1296675 non-null  object \n",
      " 8   gender                 1296675 non-null  object \n",
      " 9   street                 1296675 non-null  object \n",
      " 10  city                   1296675 non-null  object \n",
      " 11  state                  1296675 non-null  object \n",
      " 12  zip                    1296675 non-null  int64  \n",
      " 13  lat                    1296675 non-null  float64\n",
      " 14  long                   1296675 non-null  float64\n",
      " 15  city_pop               1296675 non-null  int64  \n",
      " 16  job                    1296675 non-null  object \n",
      " 17  dob                    1296675 non-null  object \n",
      " 18  trans_num              1296675 non-null  object \n",
      " 19  unix_time              1296675 non-null  int64  \n",
      " 20  merch_lat              1296675 non-null  float64\n",
      " 21  merch_long             1296675 non-null  float64\n",
      " 22  is_fraud               1296675 non-null  int64  \n",
      "dtypes: float64(5), int64(6), object(12)\n",
      "memory usage: 227.5+ MB\n"
     ]
    }
   ],
   "source": [
    "data.info()"
   ]
  },
  {
   "cell_type": "code",
   "execution_count": 11,
   "id": "efb36fcf",
   "metadata": {},
   "outputs": [
    {
     "data": {
      "text/html": [
       "<div>\n",
       "<style scoped>\n",
       "    .dataframe tbody tr th:only-of-type {\n",
       "        vertical-align: middle;\n",
       "    }\n",
       "\n",
       "    .dataframe tbody tr th {\n",
       "        vertical-align: top;\n",
       "    }\n",
       "\n",
       "    .dataframe thead th {\n",
       "        text-align: right;\n",
       "    }\n",
       "</style>\n",
       "<table border=\"1\" class=\"dataframe\">\n",
       "  <thead>\n",
       "    <tr style=\"text-align: right;\">\n",
       "      <th></th>\n",
       "      <th>Unnamed: 0</th>\n",
       "      <th>trans_date_trans_time</th>\n",
       "      <th>cc_num</th>\n",
       "      <th>merchant</th>\n",
       "      <th>category</th>\n",
       "      <th>amt</th>\n",
       "      <th>first</th>\n",
       "      <th>last</th>\n",
       "      <th>gender</th>\n",
       "      <th>street</th>\n",
       "      <th>...</th>\n",
       "      <th>lat</th>\n",
       "      <th>long</th>\n",
       "      <th>city_pop</th>\n",
       "      <th>job</th>\n",
       "      <th>dob</th>\n",
       "      <th>trans_num</th>\n",
       "      <th>unix_time</th>\n",
       "      <th>merch_lat</th>\n",
       "      <th>merch_long</th>\n",
       "      <th>is_fraud</th>\n",
       "    </tr>\n",
       "  </thead>\n",
       "  <tbody>\n",
       "    <tr>\n",
       "      <th>0</th>\n",
       "      <td>False</td>\n",
       "      <td>False</td>\n",
       "      <td>False</td>\n",
       "      <td>False</td>\n",
       "      <td>False</td>\n",
       "      <td>False</td>\n",
       "      <td>False</td>\n",
       "      <td>False</td>\n",
       "      <td>False</td>\n",
       "      <td>False</td>\n",
       "      <td>...</td>\n",
       "      <td>False</td>\n",
       "      <td>False</td>\n",
       "      <td>False</td>\n",
       "      <td>False</td>\n",
       "      <td>False</td>\n",
       "      <td>False</td>\n",
       "      <td>False</td>\n",
       "      <td>False</td>\n",
       "      <td>False</td>\n",
       "      <td>False</td>\n",
       "    </tr>\n",
       "    <tr>\n",
       "      <th>1</th>\n",
       "      <td>False</td>\n",
       "      <td>False</td>\n",
       "      <td>False</td>\n",
       "      <td>False</td>\n",
       "      <td>False</td>\n",
       "      <td>False</td>\n",
       "      <td>False</td>\n",
       "      <td>False</td>\n",
       "      <td>False</td>\n",
       "      <td>False</td>\n",
       "      <td>...</td>\n",
       "      <td>False</td>\n",
       "      <td>False</td>\n",
       "      <td>False</td>\n",
       "      <td>False</td>\n",
       "      <td>False</td>\n",
       "      <td>False</td>\n",
       "      <td>False</td>\n",
       "      <td>False</td>\n",
       "      <td>False</td>\n",
       "      <td>False</td>\n",
       "    </tr>\n",
       "    <tr>\n",
       "      <th>2</th>\n",
       "      <td>False</td>\n",
       "      <td>False</td>\n",
       "      <td>False</td>\n",
       "      <td>False</td>\n",
       "      <td>False</td>\n",
       "      <td>False</td>\n",
       "      <td>False</td>\n",
       "      <td>False</td>\n",
       "      <td>False</td>\n",
       "      <td>False</td>\n",
       "      <td>...</td>\n",
       "      <td>False</td>\n",
       "      <td>False</td>\n",
       "      <td>False</td>\n",
       "      <td>False</td>\n",
       "      <td>False</td>\n",
       "      <td>False</td>\n",
       "      <td>False</td>\n",
       "      <td>False</td>\n",
       "      <td>False</td>\n",
       "      <td>False</td>\n",
       "    </tr>\n",
       "    <tr>\n",
       "      <th>3</th>\n",
       "      <td>False</td>\n",
       "      <td>False</td>\n",
       "      <td>False</td>\n",
       "      <td>False</td>\n",
       "      <td>False</td>\n",
       "      <td>False</td>\n",
       "      <td>False</td>\n",
       "      <td>False</td>\n",
       "      <td>False</td>\n",
       "      <td>False</td>\n",
       "      <td>...</td>\n",
       "      <td>False</td>\n",
       "      <td>False</td>\n",
       "      <td>False</td>\n",
       "      <td>False</td>\n",
       "      <td>False</td>\n",
       "      <td>False</td>\n",
       "      <td>False</td>\n",
       "      <td>False</td>\n",
       "      <td>False</td>\n",
       "      <td>False</td>\n",
       "    </tr>\n",
       "    <tr>\n",
       "      <th>4</th>\n",
       "      <td>False</td>\n",
       "      <td>False</td>\n",
       "      <td>False</td>\n",
       "      <td>False</td>\n",
       "      <td>False</td>\n",
       "      <td>False</td>\n",
       "      <td>False</td>\n",
       "      <td>False</td>\n",
       "      <td>False</td>\n",
       "      <td>False</td>\n",
       "      <td>...</td>\n",
       "      <td>False</td>\n",
       "      <td>False</td>\n",
       "      <td>False</td>\n",
       "      <td>False</td>\n",
       "      <td>False</td>\n",
       "      <td>False</td>\n",
       "      <td>False</td>\n",
       "      <td>False</td>\n",
       "      <td>False</td>\n",
       "      <td>False</td>\n",
       "    </tr>\n",
       "    <tr>\n",
       "      <th>...</th>\n",
       "      <td>...</td>\n",
       "      <td>...</td>\n",
       "      <td>...</td>\n",
       "      <td>...</td>\n",
       "      <td>...</td>\n",
       "      <td>...</td>\n",
       "      <td>...</td>\n",
       "      <td>...</td>\n",
       "      <td>...</td>\n",
       "      <td>...</td>\n",
       "      <td>...</td>\n",
       "      <td>...</td>\n",
       "      <td>...</td>\n",
       "      <td>...</td>\n",
       "      <td>...</td>\n",
       "      <td>...</td>\n",
       "      <td>...</td>\n",
       "      <td>...</td>\n",
       "      <td>...</td>\n",
       "      <td>...</td>\n",
       "      <td>...</td>\n",
       "    </tr>\n",
       "    <tr>\n",
       "      <th>1296670</th>\n",
       "      <td>False</td>\n",
       "      <td>False</td>\n",
       "      <td>False</td>\n",
       "      <td>False</td>\n",
       "      <td>False</td>\n",
       "      <td>False</td>\n",
       "      <td>False</td>\n",
       "      <td>False</td>\n",
       "      <td>False</td>\n",
       "      <td>False</td>\n",
       "      <td>...</td>\n",
       "      <td>False</td>\n",
       "      <td>False</td>\n",
       "      <td>False</td>\n",
       "      <td>False</td>\n",
       "      <td>False</td>\n",
       "      <td>False</td>\n",
       "      <td>False</td>\n",
       "      <td>False</td>\n",
       "      <td>False</td>\n",
       "      <td>False</td>\n",
       "    </tr>\n",
       "    <tr>\n",
       "      <th>1296671</th>\n",
       "      <td>False</td>\n",
       "      <td>False</td>\n",
       "      <td>False</td>\n",
       "      <td>False</td>\n",
       "      <td>False</td>\n",
       "      <td>False</td>\n",
       "      <td>False</td>\n",
       "      <td>False</td>\n",
       "      <td>False</td>\n",
       "      <td>False</td>\n",
       "      <td>...</td>\n",
       "      <td>False</td>\n",
       "      <td>False</td>\n",
       "      <td>False</td>\n",
       "      <td>False</td>\n",
       "      <td>False</td>\n",
       "      <td>False</td>\n",
       "      <td>False</td>\n",
       "      <td>False</td>\n",
       "      <td>False</td>\n",
       "      <td>False</td>\n",
       "    </tr>\n",
       "    <tr>\n",
       "      <th>1296672</th>\n",
       "      <td>False</td>\n",
       "      <td>False</td>\n",
       "      <td>False</td>\n",
       "      <td>False</td>\n",
       "      <td>False</td>\n",
       "      <td>False</td>\n",
       "      <td>False</td>\n",
       "      <td>False</td>\n",
       "      <td>False</td>\n",
       "      <td>False</td>\n",
       "      <td>...</td>\n",
       "      <td>False</td>\n",
       "      <td>False</td>\n",
       "      <td>False</td>\n",
       "      <td>False</td>\n",
       "      <td>False</td>\n",
       "      <td>False</td>\n",
       "      <td>False</td>\n",
       "      <td>False</td>\n",
       "      <td>False</td>\n",
       "      <td>False</td>\n",
       "    </tr>\n",
       "    <tr>\n",
       "      <th>1296673</th>\n",
       "      <td>False</td>\n",
       "      <td>False</td>\n",
       "      <td>False</td>\n",
       "      <td>False</td>\n",
       "      <td>False</td>\n",
       "      <td>False</td>\n",
       "      <td>False</td>\n",
       "      <td>False</td>\n",
       "      <td>False</td>\n",
       "      <td>False</td>\n",
       "      <td>...</td>\n",
       "      <td>False</td>\n",
       "      <td>False</td>\n",
       "      <td>False</td>\n",
       "      <td>False</td>\n",
       "      <td>False</td>\n",
       "      <td>False</td>\n",
       "      <td>False</td>\n",
       "      <td>False</td>\n",
       "      <td>False</td>\n",
       "      <td>False</td>\n",
       "    </tr>\n",
       "    <tr>\n",
       "      <th>1296674</th>\n",
       "      <td>False</td>\n",
       "      <td>False</td>\n",
       "      <td>False</td>\n",
       "      <td>False</td>\n",
       "      <td>False</td>\n",
       "      <td>False</td>\n",
       "      <td>False</td>\n",
       "      <td>False</td>\n",
       "      <td>False</td>\n",
       "      <td>False</td>\n",
       "      <td>...</td>\n",
       "      <td>False</td>\n",
       "      <td>False</td>\n",
       "      <td>False</td>\n",
       "      <td>False</td>\n",
       "      <td>False</td>\n",
       "      <td>False</td>\n",
       "      <td>False</td>\n",
       "      <td>False</td>\n",
       "      <td>False</td>\n",
       "      <td>False</td>\n",
       "    </tr>\n",
       "  </tbody>\n",
       "</table>\n",
       "<p>1296675 rows × 23 columns</p>\n",
       "</div>"
      ],
      "text/plain": [
       "         Unnamed: 0  trans_date_trans_time  cc_num  merchant  category    amt  \\\n",
       "0             False                  False   False     False     False  False   \n",
       "1             False                  False   False     False     False  False   \n",
       "2             False                  False   False     False     False  False   \n",
       "3             False                  False   False     False     False  False   \n",
       "4             False                  False   False     False     False  False   \n",
       "...             ...                    ...     ...       ...       ...    ...   \n",
       "1296670       False                  False   False     False     False  False   \n",
       "1296671       False                  False   False     False     False  False   \n",
       "1296672       False                  False   False     False     False  False   \n",
       "1296673       False                  False   False     False     False  False   \n",
       "1296674       False                  False   False     False     False  False   \n",
       "\n",
       "         first   last  gender  street  ...    lat   long  city_pop    job  \\\n",
       "0        False  False   False   False  ...  False  False     False  False   \n",
       "1        False  False   False   False  ...  False  False     False  False   \n",
       "2        False  False   False   False  ...  False  False     False  False   \n",
       "3        False  False   False   False  ...  False  False     False  False   \n",
       "4        False  False   False   False  ...  False  False     False  False   \n",
       "...        ...    ...     ...     ...  ...    ...    ...       ...    ...   \n",
       "1296670  False  False   False   False  ...  False  False     False  False   \n",
       "1296671  False  False   False   False  ...  False  False     False  False   \n",
       "1296672  False  False   False   False  ...  False  False     False  False   \n",
       "1296673  False  False   False   False  ...  False  False     False  False   \n",
       "1296674  False  False   False   False  ...  False  False     False  False   \n",
       "\n",
       "           dob  trans_num  unix_time  merch_lat  merch_long  is_fraud  \n",
       "0        False      False      False      False       False     False  \n",
       "1        False      False      False      False       False     False  \n",
       "2        False      False      False      False       False     False  \n",
       "3        False      False      False      False       False     False  \n",
       "4        False      False      False      False       False     False  \n",
       "...        ...        ...        ...        ...         ...       ...  \n",
       "1296670  False      False      False      False       False     False  \n",
       "1296671  False      False      False      False       False     False  \n",
       "1296672  False      False      False      False       False     False  \n",
       "1296673  False      False      False      False       False     False  \n",
       "1296674  False      False      False      False       False     False  \n",
       "\n",
       "[1296675 rows x 23 columns]"
      ]
     },
     "execution_count": 11,
     "metadata": {},
     "output_type": "execute_result"
    }
   ],
   "source": [
    "#Lets see if there are wrong or no values\n",
    "\n",
    "data.isnull()"
   ]
  },
  {
   "cell_type": "code",
   "execution_count": 12,
   "id": "1d413e94",
   "metadata": {},
   "outputs": [
    {
     "name": "stdout",
     "output_type": "stream",
     "text": [
      "<class 'pandas.core.frame.DataFrame'>\n",
      "RangeIndex: 1296675 entries, 0 to 1296674\n",
      "Data columns (total 23 columns):\n",
      " #   Column                 Non-Null Count    Dtype\n",
      "---  ------                 --------------    -----\n",
      " 0   Unnamed: 0             1296675 non-null  bool \n",
      " 1   trans_date_trans_time  1296675 non-null  bool \n",
      " 2   cc_num                 1296675 non-null  bool \n",
      " 3   merchant               1296675 non-null  bool \n",
      " 4   category               1296675 non-null  bool \n",
      " 5   amt                    1296675 non-null  bool \n",
      " 6   first                  1296675 non-null  bool \n",
      " 7   last                   1296675 non-null  bool \n",
      " 8   gender                 1296675 non-null  bool \n",
      " 9   street                 1296675 non-null  bool \n",
      " 10  city                   1296675 non-null  bool \n",
      " 11  state                  1296675 non-null  bool \n",
      " 12  zip                    1296675 non-null  bool \n",
      " 13  lat                    1296675 non-null  bool \n",
      " 14  long                   1296675 non-null  bool \n",
      " 15  city_pop               1296675 non-null  bool \n",
      " 16  job                    1296675 non-null  bool \n",
      " 17  dob                    1296675 non-null  bool \n",
      " 18  trans_num              1296675 non-null  bool \n",
      " 19  unix_time              1296675 non-null  bool \n",
      " 20  merch_lat              1296675 non-null  bool \n",
      " 21  merch_long             1296675 non-null  bool \n",
      " 22  is_fraud               1296675 non-null  bool \n",
      "dtypes: bool(23)\n",
      "memory usage: 28.4 MB\n"
     ]
    }
   ],
   "source": [
    "data.isnull().info() #sum()"
   ]
  },
  {
   "cell_type": "code",
   "execution_count": 13,
   "id": "3c321152",
   "metadata": {},
   "outputs": [],
   "source": [
    "# lets check what we should keep and what is not necessary in this exploratory analysis"
   ]
  },
  {
   "cell_type": "code",
   "execution_count": 14,
   "id": "2f5db26c",
   "metadata": {},
   "outputs": [
    {
     "name": "stderr",
     "output_type": "stream",
     "text": [
      "C:\\Users\\harsh\\AppData\\Local\\Temp/ipykernel_8972/3816287338.py:1: FutureWarning: In a future version of pandas all arguments of DataFrame.drop except for the argument 'labels' will be keyword-only\n",
      "  data_df=data.drop(\"trans_num\",1)\n"
     ]
    }
   ],
   "source": [
    "data_df=data.drop(\"trans_num\",1)"
   ]
  },
  {
   "cell_type": "code",
   "execution_count": 15,
   "id": "e0a74ec2",
   "metadata": {},
   "outputs": [],
   "source": [
    "## now check credit card transactions details and similar kind of transactions"
   ]
  },
  {
   "cell_type": "code",
   "execution_count": 16,
   "id": "d5ab751d",
   "metadata": {},
   "outputs": [
    {
     "data": {
      "text/plain": [
       "0             2703186189652095\n",
       "1                 630423337322\n",
       "2               38859492057661\n",
       "3             3534093764340240\n",
       "4              375534208663984\n",
       "                  ...         \n",
       "1296670         30263540414123\n",
       "1296671       6011149206456997\n",
       "1296672       3514865930894695\n",
       "1296673       2720012583106919\n",
       "1296674    4292902571056973207\n",
       "Name: cc_num, Length: 1296675, dtype: int64"
      ]
     },
     "execution_count": 16,
     "metadata": {},
     "output_type": "execute_result"
    }
   ],
   "source": [
    "data['cc_num']"
   ]
  },
  {
   "cell_type": "code",
   "execution_count": 17,
   "id": "966ed3a9",
   "metadata": {},
   "outputs": [
    {
     "data": {
      "text/plain": [
       "571365235126           3123\n",
       "4512828414983801773    3123\n",
       "36722699017270         3119\n",
       "213112402583773        3117\n",
       "3545109339866548       3113\n",
       "                       ... \n",
       "180097223252063           7\n",
       "4225628813173670          7\n",
       "501894933032              7\n",
       "4975457191020             7\n",
       "340187018810220           7\n",
       "Name: cc_num, Length: 983, dtype: int64"
      ]
     },
     "execution_count": 17,
     "metadata": {},
     "output_type": "execute_result"
    }
   ],
   "source": [
    "data['cc_num'].value_counts()"
   ]
  },
  {
   "cell_type": "code",
   "execution_count": 18,
   "id": "dbf55dda",
   "metadata": {},
   "outputs": [],
   "source": [
    "#what is last column??\n"
   ]
  },
  {
   "cell_type": "code",
   "execution_count": 19,
   "id": "63afdc95",
   "metadata": {},
   "outputs": [
    {
     "data": {
      "text/plain": [
       "(0              Banks\n",
       " 1               Gill\n",
       " 2            Sanchez\n",
       " 3              White\n",
       " 4             Garcia\n",
       "              ...    \n",
       " 1296670    Patterson\n",
       " 1296671        White\n",
       " 1296672    Castaneda\n",
       " 1296673       Murray\n",
       " 1296674        Smith\n",
       " Name: last, Length: 1296675, dtype: object,\n",
       " 0             Jennifer\n",
       " 1            Stephanie\n",
       " 2               Edward\n",
       " 3               Jeremy\n",
       " 4                Tyler\n",
       "               ...     \n",
       " 1296670           Erik\n",
       " 1296671        Jeffrey\n",
       " 1296672    Christopher\n",
       " 1296673         Joseph\n",
       " 1296674        Jeffrey\n",
       " Name: first, Length: 1296675, dtype: object)"
      ]
     },
     "execution_count": 19,
     "metadata": {},
     "output_type": "execute_result"
    }
   ],
   "source": [
    "data['last'],data['first']"
   ]
  },
  {
   "cell_type": "code",
   "execution_count": 20,
   "id": "fd7161a6",
   "metadata": {},
   "outputs": [],
   "source": [
    "## Last and first columns are first and last name of customers, therefore these are not requiredin our exploratory analysis"
   ]
  },
  {
   "cell_type": "code",
   "execution_count": 21,
   "id": "3d100e9b",
   "metadata": {},
   "outputs": [],
   "source": [
    "data_df=data.drop(columns=['first', 'last','trans_num'])"
   ]
  },
  {
   "cell_type": "code",
   "execution_count": 22,
   "id": "bc6005b2",
   "metadata": {},
   "outputs": [
    {
     "data": {
      "text/plain": [
       "Index(['Unnamed: 0', 'trans_date_trans_time', 'cc_num', 'merchant', 'category',\n",
       "       'amt', 'gender', 'street', 'city', 'state', 'zip', 'lat', 'long',\n",
       "       'city_pop', 'job', 'dob', 'unix_time', 'merch_lat', 'merch_long',\n",
       "       'is_fraud'],\n",
       "      dtype='object')"
      ]
     },
     "execution_count": 22,
     "metadata": {},
     "output_type": "execute_result"
    }
   ],
   "source": [
    "data_df.columns"
   ]
  },
  {
   "cell_type": "code",
   "execution_count": 23,
   "id": "6cf45bcb",
   "metadata": {},
   "outputs": [],
   "source": [
    "#lets do some exploratory analysis on time"
   ]
  },
  {
   "cell_type": "code",
   "execution_count": 24,
   "id": "e744608e",
   "metadata": {},
   "outputs": [
    {
     "data": {
      "text/plain": [
       "0          1325376018\n",
       "1          1325376044\n",
       "2          1325376051\n",
       "3          1325376076\n",
       "4          1325376186\n",
       "              ...    \n",
       "1296670    1371816728\n",
       "1296671    1371816739\n",
       "1296672    1371816752\n",
       "1296673    1371816816\n",
       "1296674    1371816817\n",
       "Name: unix_time, Length: 1296675, dtype: int64"
      ]
     },
     "execution_count": 24,
     "metadata": {},
     "output_type": "execute_result"
    }
   ],
   "source": [
    "data['unix_time']"
   ]
  },
  {
   "cell_type": "code",
   "execution_count": 25,
   "id": "9af79135",
   "metadata": {},
   "outputs": [],
   "source": [
    "# this is number not clear so we need to look and do some digging"
   ]
  },
  {
   "cell_type": "code",
   "execution_count": 26,
   "id": "781af771",
   "metadata": {},
   "outputs": [],
   "source": [
    "#let's compare transactions and time, and see correlations!!"
   ]
  },
  {
   "cell_type": "code",
   "execution_count": 27,
   "id": "6990f503",
   "metadata": {},
   "outputs": [
    {
     "data": {
      "text/html": [
       "<div>\n",
       "<style scoped>\n",
       "    .dataframe tbody tr th:only-of-type {\n",
       "        vertical-align: middle;\n",
       "    }\n",
       "\n",
       "    .dataframe tbody tr th {\n",
       "        vertical-align: top;\n",
       "    }\n",
       "\n",
       "    .dataframe thead th {\n",
       "        text-align: right;\n",
       "    }\n",
       "</style>\n",
       "<table border=\"1\" class=\"dataframe\">\n",
       "  <thead>\n",
       "    <tr style=\"text-align: right;\">\n",
       "      <th></th>\n",
       "      <th>cc_num</th>\n",
       "      <th>unix_time</th>\n",
       "    </tr>\n",
       "  </thead>\n",
       "  <tbody>\n",
       "    <tr>\n",
       "      <th>0</th>\n",
       "      <td>2703186189652095</td>\n",
       "      <td>1325376018</td>\n",
       "    </tr>\n",
       "    <tr>\n",
       "      <th>1</th>\n",
       "      <td>630423337322</td>\n",
       "      <td>1325376044</td>\n",
       "    </tr>\n",
       "    <tr>\n",
       "      <th>2</th>\n",
       "      <td>38859492057661</td>\n",
       "      <td>1325376051</td>\n",
       "    </tr>\n",
       "    <tr>\n",
       "      <th>3</th>\n",
       "      <td>3534093764340240</td>\n",
       "      <td>1325376076</td>\n",
       "    </tr>\n",
       "    <tr>\n",
       "      <th>4</th>\n",
       "      <td>375534208663984</td>\n",
       "      <td>1325376186</td>\n",
       "    </tr>\n",
       "    <tr>\n",
       "      <th>...</th>\n",
       "      <td>...</td>\n",
       "      <td>...</td>\n",
       "    </tr>\n",
       "    <tr>\n",
       "      <th>1296670</th>\n",
       "      <td>30263540414123</td>\n",
       "      <td>1371816728</td>\n",
       "    </tr>\n",
       "    <tr>\n",
       "      <th>1296671</th>\n",
       "      <td>6011149206456997</td>\n",
       "      <td>1371816739</td>\n",
       "    </tr>\n",
       "    <tr>\n",
       "      <th>1296672</th>\n",
       "      <td>3514865930894695</td>\n",
       "      <td>1371816752</td>\n",
       "    </tr>\n",
       "    <tr>\n",
       "      <th>1296673</th>\n",
       "      <td>2720012583106919</td>\n",
       "      <td>1371816816</td>\n",
       "    </tr>\n",
       "    <tr>\n",
       "      <th>1296674</th>\n",
       "      <td>4292902571056973207</td>\n",
       "      <td>1371816817</td>\n",
       "    </tr>\n",
       "  </tbody>\n",
       "</table>\n",
       "<p>1296675 rows × 2 columns</p>\n",
       "</div>"
      ],
      "text/plain": [
       "                      cc_num   unix_time\n",
       "0           2703186189652095  1325376018\n",
       "1               630423337322  1325376044\n",
       "2             38859492057661  1325376051\n",
       "3           3534093764340240  1325376076\n",
       "4            375534208663984  1325376186\n",
       "...                      ...         ...\n",
       "1296670       30263540414123  1371816728\n",
       "1296671     6011149206456997  1371816739\n",
       "1296672     3514865930894695  1371816752\n",
       "1296673     2720012583106919  1371816816\n",
       "1296674  4292902571056973207  1371816817\n",
       "\n",
       "[1296675 rows x 2 columns]"
      ]
     },
     "execution_count": 27,
     "metadata": {},
     "output_type": "execute_result"
    }
   ],
   "source": [
    "data[['cc_num', 'unix_time']]"
   ]
  },
  {
   "cell_type": "code",
   "execution_count": 28,
   "id": "7300df2e",
   "metadata": {},
   "outputs": [
    {
     "data": {
      "text/html": [
       "<div>\n",
       "<style scoped>\n",
       "    .dataframe tbody tr th:only-of-type {\n",
       "        vertical-align: middle;\n",
       "    }\n",
       "\n",
       "    .dataframe tbody tr th {\n",
       "        vertical-align: top;\n",
       "    }\n",
       "\n",
       "    .dataframe thead th {\n",
       "        text-align: right;\n",
       "    }\n",
       "</style>\n",
       "<table border=\"1\" class=\"dataframe\">\n",
       "  <thead>\n",
       "    <tr style=\"text-align: right;\">\n",
       "      <th></th>\n",
       "      <th>cc_num</th>\n",
       "      <th>unix_time</th>\n",
       "    </tr>\n",
       "  </thead>\n",
       "  <tbody>\n",
       "    <tr>\n",
       "      <th>0</th>\n",
       "      <td>2703186189652095</td>\n",
       "      <td>1325376018</td>\n",
       "    </tr>\n",
       "    <tr>\n",
       "      <th>1</th>\n",
       "      <td>630423337322</td>\n",
       "      <td>1325376044</td>\n",
       "    </tr>\n",
       "    <tr>\n",
       "      <th>2</th>\n",
       "      <td>38859492057661</td>\n",
       "      <td>1325376051</td>\n",
       "    </tr>\n",
       "    <tr>\n",
       "      <th>3</th>\n",
       "      <td>3534093764340240</td>\n",
       "      <td>1325376076</td>\n",
       "    </tr>\n",
       "    <tr>\n",
       "      <th>4</th>\n",
       "      <td>375534208663984</td>\n",
       "      <td>1325376186</td>\n",
       "    </tr>\n",
       "    <tr>\n",
       "      <th>...</th>\n",
       "      <td>...</td>\n",
       "      <td>...</td>\n",
       "    </tr>\n",
       "    <tr>\n",
       "      <th>1296670</th>\n",
       "      <td>30263540414123</td>\n",
       "      <td>1371816728</td>\n",
       "    </tr>\n",
       "    <tr>\n",
       "      <th>1296671</th>\n",
       "      <td>6011149206456997</td>\n",
       "      <td>1371816739</td>\n",
       "    </tr>\n",
       "    <tr>\n",
       "      <th>1296672</th>\n",
       "      <td>3514865930894695</td>\n",
       "      <td>1371816752</td>\n",
       "    </tr>\n",
       "    <tr>\n",
       "      <th>1296673</th>\n",
       "      <td>2720012583106919</td>\n",
       "      <td>1371816816</td>\n",
       "    </tr>\n",
       "    <tr>\n",
       "      <th>1296674</th>\n",
       "      <td>4292902571056973207</td>\n",
       "      <td>1371816817</td>\n",
       "    </tr>\n",
       "  </tbody>\n",
       "</table>\n",
       "<p>1296675 rows × 2 columns</p>\n",
       "</div>"
      ],
      "text/plain": [
       "                      cc_num   unix_time\n",
       "0           2703186189652095  1325376018\n",
       "1               630423337322  1325376044\n",
       "2             38859492057661  1325376051\n",
       "3           3534093764340240  1325376076\n",
       "4            375534208663984  1325376186\n",
       "...                      ...         ...\n",
       "1296670       30263540414123  1371816728\n",
       "1296671     6011149206456997  1371816739\n",
       "1296672     3514865930894695  1371816752\n",
       "1296673     2720012583106919  1371816816\n",
       "1296674  4292902571056973207  1371816817\n",
       "\n",
       "[1296675 rows x 2 columns]"
      ]
     },
     "execution_count": 28,
     "metadata": {},
     "output_type": "execute_result"
    }
   ],
   "source": [
    "data[['cc_num', 'unix_time']]"
   ]
  },
  {
   "cell_type": "code",
   "execution_count": 29,
   "id": "e708a8a0",
   "metadata": {},
   "outputs": [
    {
     "data": {
      "text/plain": [
       "<bound method DataFrame.diff of                       cc_num   unix_time\n",
       "0           2703186189652095  1325376018\n",
       "1               630423337322  1325376044\n",
       "2             38859492057661  1325376051\n",
       "3           3534093764340240  1325376076\n",
       "4            375534208663984  1325376186\n",
       "...                      ...         ...\n",
       "1296670       30263540414123  1371816728\n",
       "1296671     6011149206456997  1371816739\n",
       "1296672     3514865930894695  1371816752\n",
       "1296673     2720012583106919  1371816816\n",
       "1296674  4292902571056973207  1371816817\n",
       "\n",
       "[1296675 rows x 2 columns]>"
      ]
     },
     "execution_count": 29,
     "metadata": {},
     "output_type": "execute_result"
    }
   ],
   "source": [
    "#we see that \n",
    "data[['cc_num', 'unix_time']].diff"
   ]
  },
  {
   "cell_type": "code",
   "execution_count": 30,
   "id": "3d5e104a",
   "metadata": {},
   "outputs": [],
   "source": [
    "data['update_of_trans']=data.groupby(by='cc_num')['unix_time'].diff()"
   ]
  },
  {
   "cell_type": "code",
   "execution_count": 31,
   "id": "cf87a100",
   "metadata": {},
   "outputs": [
    {
     "data": {
      "text/plain": [
       "0              NaN\n",
       "1              NaN\n",
       "2              NaN\n",
       "3              NaN\n",
       "4              NaN\n",
       "            ...   \n",
       "1296670    16781.0\n",
       "1296671     7962.0\n",
       "1296672    29074.0\n",
       "1296673    91018.0\n",
       "1296674    44250.0\n",
       "Name: update_of_trans, Length: 1296675, dtype: float64"
      ]
     },
     "execution_count": 31,
     "metadata": {},
     "output_type": "execute_result"
    }
   ],
   "source": [
    "data['update_of_trans']"
   ]
  },
  {
   "cell_type": "code",
   "execution_count": 32,
   "id": "f5e98684",
   "metadata": {},
   "outputs": [
    {
     "data": {
      "text/plain": [
       "0           True\n",
       "1           True\n",
       "2           True\n",
       "3           True\n",
       "4           True\n",
       "           ...  \n",
       "1296670    False\n",
       "1296671    False\n",
       "1296672    False\n",
       "1296673    False\n",
       "1296674    False\n",
       "Name: update_of_trans, Length: 1296675, dtype: bool"
      ]
     },
     "execution_count": 32,
     "metadata": {},
     "output_type": "execute_result"
    }
   ],
   "source": [
    "data['update_of_trans'].isnull()"
   ]
  },
  {
   "cell_type": "code",
   "execution_count": 33,
   "id": "70fdbbf2",
   "metadata": {},
   "outputs": [
    {
     "data": {
      "text/plain": [
       "983"
      ]
     },
     "execution_count": 33,
     "metadata": {},
     "output_type": "execute_result"
    }
   ],
   "source": [
    "data['update_of_trans'].isnull().sum()"
   ]
  },
  {
   "cell_type": "code",
   "execution_count": 34,
   "id": "65267492",
   "metadata": {},
   "outputs": [],
   "source": [
    "### ??? why is that?? need to answer this to move ahead!!"
   ]
  },
  {
   "cell_type": "code",
   "execution_count": 35,
   "id": "0833d572",
   "metadata": {},
   "outputs": [],
   "source": [
    "##let look update_transsaction has null values that means there were same transactions not multiple times"
   ]
  },
  {
   "cell_type": "code",
   "execution_count": 36,
   "id": "af4d80a2",
   "metadata": {},
   "outputs": [],
   "source": [
    "## so 983 values we are getting by removing null is update in cc_trans."
   ]
  },
  {
   "cell_type": "code",
   "execution_count": 37,
   "id": "7cd51ba8",
   "metadata": {},
   "outputs": [],
   "source": [
    "## that means no use of it for now!"
   ]
  },
  {
   "cell_type": "code",
   "execution_count": 38,
   "id": "d6ff4492",
   "metadata": {},
   "outputs": [],
   "source": [
    "### We can come back to it if something comes up!"
   ]
  },
  {
   "cell_type": "code",
   "execution_count": null,
   "id": "4aa04058",
   "metadata": {},
   "outputs": [],
   "source": []
  },
  {
   "cell_type": "code",
   "execution_count": null,
   "id": "82cb8cc7",
   "metadata": {},
   "outputs": [],
   "source": []
  },
  {
   "cell_type": "code",
   "execution_count": 39,
   "id": "741151bb",
   "metadata": {},
   "outputs": [],
   "source": [
    "#date and time column"
   ]
  },
  {
   "cell_type": "code",
   "execution_count": 40,
   "id": "b6828b4c",
   "metadata": {},
   "outputs": [
    {
     "data": {
      "text/plain": [
       "0          2019-01-01 00:00:18\n",
       "1          2019-01-01 00:00:44\n",
       "2          2019-01-01 00:00:51\n",
       "3          2019-01-01 00:01:16\n",
       "4          2019-01-01 00:03:06\n",
       "                  ...         \n",
       "1296670    2020-06-21 12:12:08\n",
       "1296671    2020-06-21 12:12:19\n",
       "1296672    2020-06-21 12:12:32\n",
       "1296673    2020-06-21 12:13:36\n",
       "1296674    2020-06-21 12:13:37\n",
       "Name: trans_date_trans_time, Length: 1296675, dtype: object"
      ]
     },
     "execution_count": 40,
     "metadata": {},
     "output_type": "execute_result"
    }
   ],
   "source": [
    "data['trans_date_trans_time']"
   ]
  },
  {
   "cell_type": "code",
   "execution_count": 41,
   "id": "d8398cf5",
   "metadata": {},
   "outputs": [],
   "source": [
    "data['trans_date_trans_time']=pd.to_datetime(data['trans_date_trans_time'])"
   ]
  },
  {
   "cell_type": "code",
   "execution_count": 42,
   "id": "4a11ecff",
   "metadata": {},
   "outputs": [],
   "source": [
    "data[\"Time\"] = pd.to_datetime(data[\"trans_date_trans_time\"],\"%H:%M\").dt.time"
   ]
  },
  {
   "cell_type": "code",
   "execution_count": 43,
   "id": "0a982e6d",
   "metadata": {},
   "outputs": [
    {
     "data": {
      "text/plain": [
       "0         2019-01-01 00:00:18\n",
       "1         2019-01-01 00:00:44\n",
       "2         2019-01-01 00:00:51\n",
       "3         2019-01-01 00:01:16\n",
       "4         2019-01-01 00:03:06\n",
       "                  ...        \n",
       "1296670   2020-06-21 12:12:08\n",
       "1296671   2020-06-21 12:12:19\n",
       "1296672   2020-06-21 12:12:32\n",
       "1296673   2020-06-21 12:13:36\n",
       "1296674   2020-06-21 12:13:37\n",
       "Name: trans_date_trans_time, Length: 1296675, dtype: datetime64[ns]"
      ]
     },
     "execution_count": 43,
     "metadata": {},
     "output_type": "execute_result"
    }
   ],
   "source": [
    "data['trans_date_trans_time']"
   ]
  },
  {
   "cell_type": "code",
   "execution_count": 44,
   "id": "53b1dd58",
   "metadata": {},
   "outputs": [],
   "source": [
    "data[\"Time\"] = pd.to_datetime(data[\"trans_date_trans_time\"]).dt.hour"
   ]
  },
  {
   "cell_type": "code",
   "execution_count": 45,
   "id": "0826339f",
   "metadata": {},
   "outputs": [],
   "source": [
    "#city_population on the basis of population count\n",
    "data.loc[(data[\"city_pop\"]<10000),[\"city_pop_segment\"]] = \"sparse Populatin\"\n",
    "data.loc[((data[\"city_pop\"]>10000) & (data[\"city_pop\"]<50000)),[\"city_pop_segment\"]] = \"More population\"\n",
    "data.loc[(data[\"city_pop\"]>50000),[\"city_pop_segment\"]] = \"Dense population\""
   ]
  },
  {
   "cell_type": "code",
   "execution_count": 46,
   "id": "c6b1cb2e",
   "metadata": {},
   "outputs": [
    {
     "data": {
      "text/plain": [
       "0                NaN\n",
       "1                NaN\n",
       "2                NaN\n",
       "3                NaN\n",
       "4                NaN\n",
       "             ...    \n",
       "1296670     4.661389\n",
       "1296671     2.211667\n",
       "1296672     8.076111\n",
       "1296673    25.282778\n",
       "1296674    12.291667\n",
       "Name: update_of_trans, Length: 1296675, dtype: float64"
      ]
     },
     "execution_count": 46,
     "metadata": {},
     "output_type": "execute_result"
    }
   ],
   "source": [
    "data.update_of_trans.apply(lambda x: float((x/60)/60))"
   ]
  },
  {
   "cell_type": "code",
   "execution_count": 47,
   "id": "b6519b63",
   "metadata": {},
   "outputs": [
    {
     "data": {
      "text/plain": [
       "After 24 hours        0.998925\n",
       "After Half-Day        0.000560\n",
       "After 6 hours         0.000282\n",
       "Within 6 hours        0.000217\n",
       "Recent_Transaction    0.000015\n",
       "Name: recency_segment, dtype: float64"
      ]
     },
     "execution_count": 47,
     "metadata": {},
     "output_type": "execute_result"
    }
   ],
   "source": [
    "data.loc[(data[\"update_of_trans\"]<1),[\"recency_segment\"]] = \"Recent_Transaction\"\n",
    "data.loc[((data[\"update_of_trans\"]>1) & (data[\"update_of_trans\"]<6)),[\"recency_segment\"]] = \"Within 6 hours\"\n",
    "data.loc[((data[\"update_of_trans\"]>6) & (data[\"update_of_trans\"]<12)),[\"recency_segment\"]] = \"After 6 hours\"\n",
    "data.loc[((data[\"update_of_trans\"]>12) & (data[\"update_of_trans\"]<24)),[\"recency_segment\"]] = \"After Half-Day\"\n",
    "data.loc[(data[\"update_of_trans\"]>24),[\"recency_segment\"]] = \"After 24 hours\"\n",
    "data.loc[(data[\"update_of_trans\"]<0),[\"recency_segment\"]] = \"First Transaction\"\n",
    "data.recency_segment.value_counts(normalize = True)"
   ]
  },
  {
   "cell_type": "code",
   "execution_count": 48,
   "id": "50854d76",
   "metadata": {},
   "outputs": [
    {
     "data": {
      "text/plain": [
       "sparse Populatin    0.699953\n",
       "Dense population    0.187151\n",
       "More population     0.112896\n",
       "Name: city_pop_segment, dtype: float64"
      ]
     },
     "execution_count": 48,
     "metadata": {},
     "output_type": "execute_result"
    }
   ],
   "source": [
    "data.city_pop_segment.value_counts(normalize = True)"
   ]
  },
  {
   "cell_type": "code",
   "execution_count": 49,
   "id": "e5a7c65d",
   "metadata": {},
   "outputs": [
    {
     "name": "stdout",
     "output_type": "stream",
     "text": [
      "<class 'pandas.core.frame.DataFrame'>\n",
      "RangeIndex: 1296675 entries, 0 to 1296674\n",
      "Data columns (total 27 columns):\n",
      " #   Column                 Non-Null Count    Dtype         \n",
      "---  ------                 --------------    -----         \n",
      " 0   Unnamed: 0             1296675 non-null  int64         \n",
      " 1   trans_date_trans_time  1296675 non-null  datetime64[ns]\n",
      " 2   cc_num                 1296675 non-null  int64         \n",
      " 3   merchant               1296675 non-null  object        \n",
      " 4   category               1296675 non-null  object        \n",
      " 5   amt                    1296675 non-null  float64       \n",
      " 6   first                  1296675 non-null  object        \n",
      " 7   last                   1296675 non-null  object        \n",
      " 8   gender                 1296675 non-null  object        \n",
      " 9   street                 1296675 non-null  object        \n",
      " 10  city                   1296675 non-null  object        \n",
      " 11  state                  1296675 non-null  object        \n",
      " 12  zip                    1296675 non-null  int64         \n",
      " 13  lat                    1296675 non-null  float64       \n",
      " 14  long                   1296675 non-null  float64       \n",
      " 15  city_pop               1296675 non-null  int64         \n",
      " 16  job                    1296675 non-null  object        \n",
      " 17  dob                    1296675 non-null  object        \n",
      " 18  trans_num              1296675 non-null  object        \n",
      " 19  unix_time              1296675 non-null  int64         \n",
      " 20  merch_lat              1296675 non-null  float64       \n",
      " 21  merch_long             1296675 non-null  float64       \n",
      " 22  is_fraud               1296675 non-null  int64         \n",
      " 23  update_of_trans        1295692 non-null  float64       \n",
      " 24  Time                   1296675 non-null  int64         \n",
      " 25  city_pop_segment       1296675 non-null  object        \n",
      " 26  recency_segment        1295432 non-null  object        \n",
      "dtypes: datetime64[ns](1), float64(6), int64(7), object(13)\n",
      "memory usage: 267.1+ MB\n"
     ]
    }
   ],
   "source": [
    "data.info()"
   ]
  },
  {
   "cell_type": "code",
   "execution_count": 50,
   "id": "9a973308",
   "metadata": {},
   "outputs": [],
   "source": [
    "data_df=data.drop(columns=['first','last','Unnamed: 0','dob','trans_num'])"
   ]
  },
  {
   "cell_type": "code",
   "execution_count": 51,
   "id": "28700912",
   "metadata": {},
   "outputs": [
    {
     "name": "stdout",
     "output_type": "stream",
     "text": [
      "<class 'pandas.core.frame.DataFrame'>\n",
      "RangeIndex: 1296675 entries, 0 to 1296674\n",
      "Data columns (total 22 columns):\n",
      " #   Column                 Non-Null Count    Dtype         \n",
      "---  ------                 --------------    -----         \n",
      " 0   trans_date_trans_time  1296675 non-null  datetime64[ns]\n",
      " 1   cc_num                 1296675 non-null  int64         \n",
      " 2   merchant               1296675 non-null  object        \n",
      " 3   category               1296675 non-null  object        \n",
      " 4   amt                    1296675 non-null  float64       \n",
      " 5   gender                 1296675 non-null  object        \n",
      " 6   street                 1296675 non-null  object        \n",
      " 7   city                   1296675 non-null  object        \n",
      " 8   state                  1296675 non-null  object        \n",
      " 9   zip                    1296675 non-null  int64         \n",
      " 10  lat                    1296675 non-null  float64       \n",
      " 11  long                   1296675 non-null  float64       \n",
      " 12  city_pop               1296675 non-null  int64         \n",
      " 13  job                    1296675 non-null  object        \n",
      " 14  unix_time              1296675 non-null  int64         \n",
      " 15  merch_lat              1296675 non-null  float64       \n",
      " 16  merch_long             1296675 non-null  float64       \n",
      " 17  is_fraud               1296675 non-null  int64         \n",
      " 18  update_of_trans        1295692 non-null  float64       \n",
      " 19  Time                   1296675 non-null  int64         \n",
      " 20  city_pop_segment       1296675 non-null  object        \n",
      " 21  recency_segment        1295432 non-null  object        \n",
      "dtypes: datetime64[ns](1), float64(6), int64(6), object(9)\n",
      "memory usage: 217.6+ MB\n"
     ]
    }
   ],
   "source": [
    "data_df.info()"
   ]
  },
  {
   "cell_type": "code",
   "execution_count": 52,
   "id": "b06fe0d8",
   "metadata": {},
   "outputs": [
    {
     "data": {
      "text/html": [
       "<div>\n",
       "<style scoped>\n",
       "    .dataframe tbody tr th:only-of-type {\n",
       "        vertical-align: middle;\n",
       "    }\n",
       "\n",
       "    .dataframe tbody tr th {\n",
       "        vertical-align: top;\n",
       "    }\n",
       "\n",
       "    .dataframe thead th {\n",
       "        text-align: right;\n",
       "    }\n",
       "</style>\n",
       "<table border=\"1\" class=\"dataframe\">\n",
       "  <thead>\n",
       "    <tr style=\"text-align: right;\">\n",
       "      <th></th>\n",
       "      <th>lat</th>\n",
       "      <th>long</th>\n",
       "      <th>merch_long</th>\n",
       "      <th>merch_lat</th>\n",
       "    </tr>\n",
       "  </thead>\n",
       "  <tbody>\n",
       "    <tr>\n",
       "      <th>0</th>\n",
       "      <td>36.0788</td>\n",
       "      <td>-81.1781</td>\n",
       "      <td>-82.048315</td>\n",
       "      <td>36.011293</td>\n",
       "    </tr>\n",
       "    <tr>\n",
       "      <th>1</th>\n",
       "      <td>48.8878</td>\n",
       "      <td>-118.2105</td>\n",
       "      <td>-118.186462</td>\n",
       "      <td>49.159047</td>\n",
       "    </tr>\n",
       "    <tr>\n",
       "      <th>2</th>\n",
       "      <td>42.1808</td>\n",
       "      <td>-112.2620</td>\n",
       "      <td>-112.154481</td>\n",
       "      <td>43.150704</td>\n",
       "    </tr>\n",
       "    <tr>\n",
       "      <th>3</th>\n",
       "      <td>46.2306</td>\n",
       "      <td>-112.1138</td>\n",
       "      <td>-112.561071</td>\n",
       "      <td>47.034331</td>\n",
       "    </tr>\n",
       "    <tr>\n",
       "      <th>4</th>\n",
       "      <td>38.4207</td>\n",
       "      <td>-79.4629</td>\n",
       "      <td>-78.632459</td>\n",
       "      <td>38.674999</td>\n",
       "    </tr>\n",
       "    <tr>\n",
       "      <th>...</th>\n",
       "      <td>...</td>\n",
       "      <td>...</td>\n",
       "      <td>...</td>\n",
       "      <td>...</td>\n",
       "    </tr>\n",
       "    <tr>\n",
       "      <th>1296670</th>\n",
       "      <td>37.7175</td>\n",
       "      <td>-112.4777</td>\n",
       "      <td>-111.690765</td>\n",
       "      <td>36.841266</td>\n",
       "    </tr>\n",
       "    <tr>\n",
       "      <th>1296671</th>\n",
       "      <td>39.2667</td>\n",
       "      <td>-77.5101</td>\n",
       "      <td>-78.246528</td>\n",
       "      <td>38.906881</td>\n",
       "    </tr>\n",
       "    <tr>\n",
       "      <th>1296672</th>\n",
       "      <td>32.9396</td>\n",
       "      <td>-105.8189</td>\n",
       "      <td>-105.130529</td>\n",
       "      <td>33.619513</td>\n",
       "    </tr>\n",
       "    <tr>\n",
       "      <th>1296673</th>\n",
       "      <td>43.3526</td>\n",
       "      <td>-102.5411</td>\n",
       "      <td>-103.241160</td>\n",
       "      <td>42.788940</td>\n",
       "    </tr>\n",
       "    <tr>\n",
       "      <th>1296674</th>\n",
       "      <td>45.8433</td>\n",
       "      <td>-113.8748</td>\n",
       "      <td>-114.186110</td>\n",
       "      <td>46.565983</td>\n",
       "    </tr>\n",
       "  </tbody>\n",
       "</table>\n",
       "<p>1296675 rows × 4 columns</p>\n",
       "</div>"
      ],
      "text/plain": [
       "             lat      long  merch_long  merch_lat\n",
       "0        36.0788  -81.1781  -82.048315  36.011293\n",
       "1        48.8878 -118.2105 -118.186462  49.159047\n",
       "2        42.1808 -112.2620 -112.154481  43.150704\n",
       "3        46.2306 -112.1138 -112.561071  47.034331\n",
       "4        38.4207  -79.4629  -78.632459  38.674999\n",
       "...          ...       ...         ...        ...\n",
       "1296670  37.7175 -112.4777 -111.690765  36.841266\n",
       "1296671  39.2667  -77.5101  -78.246528  38.906881\n",
       "1296672  32.9396 -105.8189 -105.130529  33.619513\n",
       "1296673  43.3526 -102.5411 -103.241160  42.788940\n",
       "1296674  45.8433 -113.8748 -114.186110  46.565983\n",
       "\n",
       "[1296675 rows x 4 columns]"
      ]
     },
     "execution_count": 52,
     "metadata": {},
     "output_type": "execute_result"
    }
   ],
   "source": [
    "data[['lat','long','merch_long','merch_lat']]"
   ]
  },
  {
   "cell_type": "code",
   "execution_count": 53,
   "id": "28630a49",
   "metadata": {},
   "outputs": [],
   "source": [
    "#this is benefecial as we can locate transaction and how far fraud transactions are from the normal transaction area."
   ]
  },
  {
   "cell_type": "code",
   "execution_count": 54,
   "id": "14442eef",
   "metadata": {},
   "outputs": [],
   "source": [
    "data['lat_tran_diff']=abs(data.lat - data.merch_lat)\n",
    "data['long_tran_diff']=abs(data.long - data.merch_long)"
   ]
  },
  {
   "cell_type": "code",
   "execution_count": 55,
   "id": "9ffead1c",
   "metadata": {},
   "outputs": [],
   "source": [
    "data_df['lat_tran_diff']=abs(data.lat - data.merch_lat)\n",
    "data_df['long_tran_diff']=abs(data.long - data.merch_long)"
   ]
  },
  {
   "cell_type": "code",
   "execution_count": 56,
   "id": "a5390d09",
   "metadata": {},
   "outputs": [
    {
     "data": {
      "text/html": [
       "<div>\n",
       "<style scoped>\n",
       "    .dataframe tbody tr th:only-of-type {\n",
       "        vertical-align: middle;\n",
       "    }\n",
       "\n",
       "    .dataframe tbody tr th {\n",
       "        vertical-align: top;\n",
       "    }\n",
       "\n",
       "    .dataframe thead th {\n",
       "        text-align: right;\n",
       "    }\n",
       "</style>\n",
       "<table border=\"1\" class=\"dataframe\">\n",
       "  <thead>\n",
       "    <tr style=\"text-align: right;\">\n",
       "      <th></th>\n",
       "      <th>lat_tran_diff</th>\n",
       "      <th>long_tran_diff</th>\n",
       "    </tr>\n",
       "  </thead>\n",
       "  <tbody>\n",
       "    <tr>\n",
       "      <th>0</th>\n",
       "      <td>0.067507</td>\n",
       "      <td>0.870215</td>\n",
       "    </tr>\n",
       "    <tr>\n",
       "      <th>1</th>\n",
       "      <td>0.271247</td>\n",
       "      <td>0.024038</td>\n",
       "    </tr>\n",
       "    <tr>\n",
       "      <th>2</th>\n",
       "      <td>0.969904</td>\n",
       "      <td>0.107519</td>\n",
       "    </tr>\n",
       "    <tr>\n",
       "      <th>3</th>\n",
       "      <td>0.803731</td>\n",
       "      <td>0.447271</td>\n",
       "    </tr>\n",
       "    <tr>\n",
       "      <th>4</th>\n",
       "      <td>0.254299</td>\n",
       "      <td>0.830441</td>\n",
       "    </tr>\n",
       "    <tr>\n",
       "      <th>...</th>\n",
       "      <td>...</td>\n",
       "      <td>...</td>\n",
       "    </tr>\n",
       "    <tr>\n",
       "      <th>1296670</th>\n",
       "      <td>0.876234</td>\n",
       "      <td>0.786935</td>\n",
       "    </tr>\n",
       "    <tr>\n",
       "      <th>1296671</th>\n",
       "      <td>0.359819</td>\n",
       "      <td>0.736428</td>\n",
       "    </tr>\n",
       "    <tr>\n",
       "      <th>1296672</th>\n",
       "      <td>0.679913</td>\n",
       "      <td>0.688371</td>\n",
       "    </tr>\n",
       "    <tr>\n",
       "      <th>1296673</th>\n",
       "      <td>0.563660</td>\n",
       "      <td>0.700060</td>\n",
       "    </tr>\n",
       "    <tr>\n",
       "      <th>1296674</th>\n",
       "      <td>0.722683</td>\n",
       "      <td>0.311310</td>\n",
       "    </tr>\n",
       "  </tbody>\n",
       "</table>\n",
       "<p>1296675 rows × 2 columns</p>\n",
       "</div>"
      ],
      "text/plain": [
       "         lat_tran_diff  long_tran_diff\n",
       "0             0.067507        0.870215\n",
       "1             0.271247        0.024038\n",
       "2             0.969904        0.107519\n",
       "3             0.803731        0.447271\n",
       "4             0.254299        0.830441\n",
       "...                ...             ...\n",
       "1296670       0.876234        0.786935\n",
       "1296671       0.359819        0.736428\n",
       "1296672       0.679913        0.688371\n",
       "1296673       0.563660        0.700060\n",
       "1296674       0.722683        0.311310\n",
       "\n",
       "[1296675 rows x 2 columns]"
      ]
     },
     "execution_count": 56,
     "metadata": {},
     "output_type": "execute_result"
    }
   ],
   "source": [
    "data[['lat_tran_diff','long_tran_diff']]"
   ]
  },
  {
   "cell_type": "code",
   "execution_count": 57,
   "id": "e28fc9c0",
   "metadata": {},
   "outputs": [
    {
     "data": {
      "text/plain": [
       "8.306623862918075"
      ]
     },
     "execution_count": 57,
     "metadata": {},
     "output_type": "execute_result"
    }
   ],
   "source": [
    "np.sqrt(69)"
   ]
  },
  {
   "cell_type": "code",
   "execution_count": 58,
   "id": "b6119779",
   "metadata": {},
   "outputs": [],
   "source": [
    "## by theory each degree represent radius of 8.3miles"
   ]
  },
  {
   "cell_type": "code",
   "execution_count": 59,
   "id": "97a6c2c9",
   "metadata": {},
   "outputs": [],
   "source": [
    "## that means a degree difference is a distance approximately 69 miles from the card holder"
   ]
  },
  {
   "cell_type": "code",
   "execution_count": 60,
   "id": "9f42cdc9",
   "metadata": {},
   "outputs": [],
   "source": [
    "data['distance_trans']= np.sqrt(pow(data['lat_tran_diff']*69, 2) + pow((data['long_tran_diff']*69), 2))"
   ]
  },
  {
   "cell_type": "code",
   "execution_count": 61,
   "id": "a61823ac",
   "metadata": {},
   "outputs": [],
   "source": [
    "data_df['distance_trans']= np.sqrt(pow(data['lat_tran_diff']*69, 2) + pow((data['long_tran_diff']*69), 2))"
   ]
  },
  {
   "cell_type": "code",
   "execution_count": 62,
   "id": "f5524251",
   "metadata": {},
   "outputs": [
    {
     "data": {
      "text/plain": [
       "0          60.225236\n",
       "1          18.789393\n",
       "2          67.333328\n",
       "3          63.466306\n",
       "4          59.926817\n",
       "             ...    \n",
       "1296670    81.263510\n",
       "1296671    56.554578\n",
       "1296672    66.760355\n",
       "1296673    62.015479\n",
       "1296674    54.294917\n",
       "Name: distance_trans, Length: 1296675, dtype: float64"
      ]
     },
     "execution_count": 62,
     "metadata": {},
     "output_type": "execute_result"
    }
   ],
   "source": [
    "data['distance_trans']"
   ]
  },
  {
   "cell_type": "code",
   "execution_count": 63,
   "id": "8fdba3be",
   "metadata": {},
   "outputs": [],
   "source": [
    "## Now we have transaction distances then we can difurcate the transactions anf group them by distance"
   ]
  },
  {
   "cell_type": "code",
   "execution_count": 64,
   "id": "42eb703b",
   "metadata": {},
   "outputs": [],
   "source": [
    "## normally people don't shop far away in abrupt pattern, and mostly cities are 25mile square."
   ]
  },
  {
   "cell_type": "code",
   "execution_count": 65,
   "id": "2eae7311",
   "metadata": {},
   "outputs": [
    {
     "data": {
      "text/html": [
       "<div>\n",
       "<style scoped>\n",
       "    .dataframe tbody tr th:only-of-type {\n",
       "        vertical-align: middle;\n",
       "    }\n",
       "\n",
       "    .dataframe tbody tr th {\n",
       "        vertical-align: top;\n",
       "    }\n",
       "\n",
       "    .dataframe thead th {\n",
       "        text-align: right;\n",
       "    }\n",
       "</style>\n",
       "<table border=\"1\" class=\"dataframe\">\n",
       "  <thead>\n",
       "    <tr style=\"text-align: right;\">\n",
       "      <th></th>\n",
       "      <th>Unnamed: 0</th>\n",
       "      <th>trans_date_trans_time</th>\n",
       "      <th>cc_num</th>\n",
       "      <th>merchant</th>\n",
       "      <th>category</th>\n",
       "      <th>amt</th>\n",
       "      <th>first</th>\n",
       "      <th>last</th>\n",
       "      <th>gender</th>\n",
       "      <th>street</th>\n",
       "      <th>...</th>\n",
       "      <th>merch_lat</th>\n",
       "      <th>merch_long</th>\n",
       "      <th>is_fraud</th>\n",
       "      <th>update_of_trans</th>\n",
       "      <th>Time</th>\n",
       "      <th>city_pop_segment</th>\n",
       "      <th>recency_segment</th>\n",
       "      <th>lat_tran_diff</th>\n",
       "      <th>long_tran_diff</th>\n",
       "      <th>distance_trans</th>\n",
       "    </tr>\n",
       "  </thead>\n",
       "  <tbody>\n",
       "    <tr>\n",
       "      <th>1</th>\n",
       "      <td>1</td>\n",
       "      <td>2019-01-01 00:00:44</td>\n",
       "      <td>630423337322</td>\n",
       "      <td>fraud_Heller, Gutmann and Zieme</td>\n",
       "      <td>grocery_pos</td>\n",
       "      <td>107.23</td>\n",
       "      <td>Stephanie</td>\n",
       "      <td>Gill</td>\n",
       "      <td>F</td>\n",
       "      <td>43039 Riley Greens Suite 393</td>\n",
       "      <td>...</td>\n",
       "      <td>49.159047</td>\n",
       "      <td>-118.186462</td>\n",
       "      <td>0</td>\n",
       "      <td>NaN</td>\n",
       "      <td>0</td>\n",
       "      <td>sparse Populatin</td>\n",
       "      <td>NaN</td>\n",
       "      <td>0.271247</td>\n",
       "      <td>0.024038</td>\n",
       "      <td>18.789393</td>\n",
       "    </tr>\n",
       "    <tr>\n",
       "      <th>7</th>\n",
       "      <td>7</td>\n",
       "      <td>2019-01-01 00:05:08</td>\n",
       "      <td>6011360759745864</td>\n",
       "      <td>fraud_Corwin-Collins</td>\n",
       "      <td>gas_transport</td>\n",
       "      <td>71.65</td>\n",
       "      <td>Steven</td>\n",
       "      <td>Williams</td>\n",
       "      <td>M</td>\n",
       "      <td>231 Flores Pass Suite 720</td>\n",
       "      <td>...</td>\n",
       "      <td>38.948089</td>\n",
       "      <td>-78.540296</td>\n",
       "      <td>0</td>\n",
       "      <td>NaN</td>\n",
       "      <td>0</td>\n",
       "      <td>sparse Populatin</td>\n",
       "      <td>NaN</td>\n",
       "      <td>0.104889</td>\n",
       "      <td>0.060004</td>\n",
       "      <td>8.337925</td>\n",
       "    </tr>\n",
       "    <tr>\n",
       "      <th>8</th>\n",
       "      <td>8</td>\n",
       "      <td>2019-01-01 00:05:18</td>\n",
       "      <td>4922710831011201</td>\n",
       "      <td>fraud_Herzog Ltd</td>\n",
       "      <td>misc_pos</td>\n",
       "      <td>4.27</td>\n",
       "      <td>Heather</td>\n",
       "      <td>Chase</td>\n",
       "      <td>F</td>\n",
       "      <td>6888 Hicks Stream Suite 954</td>\n",
       "      <td>...</td>\n",
       "      <td>40.351813</td>\n",
       "      <td>-79.958146</td>\n",
       "      <td>0</td>\n",
       "      <td>NaN</td>\n",
       "      <td>0</td>\n",
       "      <td>sparse Populatin</td>\n",
       "      <td>NaN</td>\n",
       "      <td>0.015913</td>\n",
       "      <td>0.297446</td>\n",
       "      <td>20.553124</td>\n",
       "    </tr>\n",
       "    <tr>\n",
       "      <th>13</th>\n",
       "      <td>13</td>\n",
       "      <td>2019-01-01 00:07:27</td>\n",
       "      <td>5559857416065248</td>\n",
       "      <td>fraud_Kiehn Inc</td>\n",
       "      <td>grocery_pos</td>\n",
       "      <td>96.29</td>\n",
       "      <td>Jack</td>\n",
       "      <td>Hill</td>\n",
       "      <td>M</td>\n",
       "      <td>5916 Susan Bridge Apt. 939</td>\n",
       "      <td>...</td>\n",
       "      <td>41.657520</td>\n",
       "      <td>-122.230347</td>\n",
       "      <td>0</td>\n",
       "      <td>NaN</td>\n",
       "      <td>0</td>\n",
       "      <td>sparse Populatin</td>\n",
       "      <td>NaN</td>\n",
       "      <td>0.045020</td>\n",
       "      <td>0.295453</td>\n",
       "      <td>20.621568</td>\n",
       "    </tr>\n",
       "    <tr>\n",
       "      <th>26</th>\n",
       "      <td>26</td>\n",
       "      <td>2019-01-01 00:20:15</td>\n",
       "      <td>374930071163758</td>\n",
       "      <td>fraud_Deckow-O'Conner</td>\n",
       "      <td>grocery_pos</td>\n",
       "      <td>64.09</td>\n",
       "      <td>Daniel</td>\n",
       "      <td>Escobar</td>\n",
       "      <td>M</td>\n",
       "      <td>61390 Hayes Port</td>\n",
       "      <td>...</td>\n",
       "      <td>42.360426</td>\n",
       "      <td>-83.552316</td>\n",
       "      <td>0</td>\n",
       "      <td>NaN</td>\n",
       "      <td>0</td>\n",
       "      <td>More population</td>\n",
       "      <td>NaN</td>\n",
       "      <td>0.140126</td>\n",
       "      <td>0.194016</td>\n",
       "      <td>16.513576</td>\n",
       "    </tr>\n",
       "    <tr>\n",
       "      <th>...</th>\n",
       "      <td>...</td>\n",
       "      <td>...</td>\n",
       "      <td>...</td>\n",
       "      <td>...</td>\n",
       "      <td>...</td>\n",
       "      <td>...</td>\n",
       "      <td>...</td>\n",
       "      <td>...</td>\n",
       "      <td>...</td>\n",
       "      <td>...</td>\n",
       "      <td>...</td>\n",
       "      <td>...</td>\n",
       "      <td>...</td>\n",
       "      <td>...</td>\n",
       "      <td>...</td>\n",
       "      <td>...</td>\n",
       "      <td>...</td>\n",
       "      <td>...</td>\n",
       "      <td>...</td>\n",
       "      <td>...</td>\n",
       "      <td>...</td>\n",
       "    </tr>\n",
       "    <tr>\n",
       "      <th>1296649</th>\n",
       "      <td>1296649</td>\n",
       "      <td>2020-06-21 12:02:57</td>\n",
       "      <td>30234966027947</td>\n",
       "      <td>fraud_Lind-Buckridge</td>\n",
       "      <td>entertainment</td>\n",
       "      <td>2.18</td>\n",
       "      <td>Matthew</td>\n",
       "      <td>Lambert</td>\n",
       "      <td>M</td>\n",
       "      <td>7188 Melissa Crest Apt. 151</td>\n",
       "      <td>...</td>\n",
       "      <td>43.846212</td>\n",
       "      <td>-87.810634</td>\n",
       "      <td>0</td>\n",
       "      <td>1969.0</td>\n",
       "      <td>12</td>\n",
       "      <td>sparse Populatin</td>\n",
       "      <td>After 24 hours</td>\n",
       "      <td>0.098388</td>\n",
       "      <td>0.280466</td>\n",
       "      <td>20.508371</td>\n",
       "    </tr>\n",
       "    <tr>\n",
       "      <th>1296652</th>\n",
       "      <td>1296652</td>\n",
       "      <td>2020-06-21 12:04:53</td>\n",
       "      <td>36485887555770</td>\n",
       "      <td>fraud_Frami Group</td>\n",
       "      <td>entertainment</td>\n",
       "      <td>125.14</td>\n",
       "      <td>Michael</td>\n",
       "      <td>Gross</td>\n",
       "      <td>M</td>\n",
       "      <td>230 Ryan Tunnel Apt. 025</td>\n",
       "      <td>...</td>\n",
       "      <td>40.368417</td>\n",
       "      <td>-82.839931</td>\n",
       "      <td>0</td>\n",
       "      <td>36463.0</td>\n",
       "      <td>12</td>\n",
       "      <td>sparse Populatin</td>\n",
       "      <td>After 24 hours</td>\n",
       "      <td>0.128683</td>\n",
       "      <td>0.005731</td>\n",
       "      <td>8.887928</td>\n",
       "    </tr>\n",
       "    <tr>\n",
       "      <th>1296659</th>\n",
       "      <td>1296659</td>\n",
       "      <td>2020-06-21 12:07:53</td>\n",
       "      <td>213112402583773</td>\n",
       "      <td>fraud_Willms, Kris and Bergnaum</td>\n",
       "      <td>shopping_pos</td>\n",
       "      <td>9.72</td>\n",
       "      <td>Ana</td>\n",
       "      <td>Howell</td>\n",
       "      <td>F</td>\n",
       "      <td>4664 Sanchez Common Suite 930</td>\n",
       "      <td>...</td>\n",
       "      <td>33.838336</td>\n",
       "      <td>-82.271882</td>\n",
       "      <td>0</td>\n",
       "      <td>3400.0</td>\n",
       "      <td>12</td>\n",
       "      <td>sparse Populatin</td>\n",
       "      <td>After 24 hours</td>\n",
       "      <td>0.194264</td>\n",
       "      <td>0.069182</td>\n",
       "      <td>14.228839</td>\n",
       "    </tr>\n",
       "    <tr>\n",
       "      <th>1296661</th>\n",
       "      <td>1296661</td>\n",
       "      <td>2020-06-21 12:08:08</td>\n",
       "      <td>3586955669388457</td>\n",
       "      <td>fraud_Lynch-Wisozk</td>\n",
       "      <td>home</td>\n",
       "      <td>77.83</td>\n",
       "      <td>Benjamin</td>\n",
       "      <td>Rogers</td>\n",
       "      <td>M</td>\n",
       "      <td>24191 Elizabeth Mill</td>\n",
       "      <td>...</td>\n",
       "      <td>40.372477</td>\n",
       "      <td>-79.115942</td>\n",
       "      <td>0</td>\n",
       "      <td>27894.0</td>\n",
       "      <td>12</td>\n",
       "      <td>sparse Populatin</td>\n",
       "      <td>After 24 hours</td>\n",
       "      <td>0.005177</td>\n",
       "      <td>0.044558</td>\n",
       "      <td>3.095184</td>\n",
       "    </tr>\n",
       "    <tr>\n",
       "      <th>1296669</th>\n",
       "      <td>1296669</td>\n",
       "      <td>2020-06-21 12:11:36</td>\n",
       "      <td>4400011257587661852</td>\n",
       "      <td>fraud_Stiedemann Inc</td>\n",
       "      <td>misc_pos</td>\n",
       "      <td>37.38</td>\n",
       "      <td>Marissa</td>\n",
       "      <td>Powell</td>\n",
       "      <td>F</td>\n",
       "      <td>474 Allen Haven</td>\n",
       "      <td>...</td>\n",
       "      <td>41.728638</td>\n",
       "      <td>-99.039660</td>\n",
       "      <td>0</td>\n",
       "      <td>72413.0</td>\n",
       "      <td>12</td>\n",
       "      <td>sparse Populatin</td>\n",
       "      <td>After 24 hours</td>\n",
       "      <td>0.231438</td>\n",
       "      <td>0.253860</td>\n",
       "      <td>23.703127</td>\n",
       "    </tr>\n",
       "  </tbody>\n",
       "</table>\n",
       "<p>133464 rows × 30 columns</p>\n",
       "</div>"
      ],
      "text/plain": [
       "         Unnamed: 0 trans_date_trans_time               cc_num  \\\n",
       "1                 1   2019-01-01 00:00:44         630423337322   \n",
       "7                 7   2019-01-01 00:05:08     6011360759745864   \n",
       "8                 8   2019-01-01 00:05:18     4922710831011201   \n",
       "13               13   2019-01-01 00:07:27     5559857416065248   \n",
       "26               26   2019-01-01 00:20:15      374930071163758   \n",
       "...             ...                   ...                  ...   \n",
       "1296649     1296649   2020-06-21 12:02:57       30234966027947   \n",
       "1296652     1296652   2020-06-21 12:04:53       36485887555770   \n",
       "1296659     1296659   2020-06-21 12:07:53      213112402583773   \n",
       "1296661     1296661   2020-06-21 12:08:08     3586955669388457   \n",
       "1296669     1296669   2020-06-21 12:11:36  4400011257587661852   \n",
       "\n",
       "                                merchant       category     amt      first  \\\n",
       "1        fraud_Heller, Gutmann and Zieme    grocery_pos  107.23  Stephanie   \n",
       "7                   fraud_Corwin-Collins  gas_transport   71.65     Steven   \n",
       "8                       fraud_Herzog Ltd       misc_pos    4.27    Heather   \n",
       "13                       fraud_Kiehn Inc    grocery_pos   96.29       Jack   \n",
       "26                 fraud_Deckow-O'Conner    grocery_pos   64.09     Daniel   \n",
       "...                                  ...            ...     ...        ...   \n",
       "1296649             fraud_Lind-Buckridge  entertainment    2.18    Matthew   \n",
       "1296652                fraud_Frami Group  entertainment  125.14    Michael   \n",
       "1296659  fraud_Willms, Kris and Bergnaum   shopping_pos    9.72        Ana   \n",
       "1296661               fraud_Lynch-Wisozk           home   77.83   Benjamin   \n",
       "1296669             fraud_Stiedemann Inc       misc_pos   37.38    Marissa   \n",
       "\n",
       "             last gender                         street  ...  merch_lat  \\\n",
       "1            Gill      F   43039 Riley Greens Suite 393  ...  49.159047   \n",
       "7        Williams      M      231 Flores Pass Suite 720  ...  38.948089   \n",
       "8           Chase      F    6888 Hicks Stream Suite 954  ...  40.351813   \n",
       "13           Hill      M     5916 Susan Bridge Apt. 939  ...  41.657520   \n",
       "26        Escobar      M               61390 Hayes Port  ...  42.360426   \n",
       "...           ...    ...                            ...  ...        ...   \n",
       "1296649   Lambert      M    7188 Melissa Crest Apt. 151  ...  43.846212   \n",
       "1296652     Gross      M       230 Ryan Tunnel Apt. 025  ...  40.368417   \n",
       "1296659    Howell      F  4664 Sanchez Common Suite 930  ...  33.838336   \n",
       "1296661    Rogers      M           24191 Elizabeth Mill  ...  40.372477   \n",
       "1296669    Powell      F                474 Allen Haven  ...  41.728638   \n",
       "\n",
       "         merch_long  is_fraud  update_of_trans  Time  city_pop_segment  \\\n",
       "1       -118.186462         0              NaN     0  sparse Populatin   \n",
       "7        -78.540296         0              NaN     0  sparse Populatin   \n",
       "8        -79.958146         0              NaN     0  sparse Populatin   \n",
       "13      -122.230347         0              NaN     0  sparse Populatin   \n",
       "26       -83.552316         0              NaN     0   More population   \n",
       "...             ...       ...              ...   ...               ...   \n",
       "1296649  -87.810634         0           1969.0    12  sparse Populatin   \n",
       "1296652  -82.839931         0          36463.0    12  sparse Populatin   \n",
       "1296659  -82.271882         0           3400.0    12  sparse Populatin   \n",
       "1296661  -79.115942         0          27894.0    12  sparse Populatin   \n",
       "1296669  -99.039660         0          72413.0    12  sparse Populatin   \n",
       "\n",
       "        recency_segment lat_tran_diff long_tran_diff  distance_trans  \n",
       "1                   NaN      0.271247       0.024038       18.789393  \n",
       "7                   NaN      0.104889       0.060004        8.337925  \n",
       "8                   NaN      0.015913       0.297446       20.553124  \n",
       "13                  NaN      0.045020       0.295453       20.621568  \n",
       "26                  NaN      0.140126       0.194016       16.513576  \n",
       "...                 ...           ...            ...             ...  \n",
       "1296649  After 24 hours      0.098388       0.280466       20.508371  \n",
       "1296652  After 24 hours      0.128683       0.005731        8.887928  \n",
       "1296659  After 24 hours      0.194264       0.069182       14.228839  \n",
       "1296661  After 24 hours      0.005177       0.044558        3.095184  \n",
       "1296669  After 24 hours      0.231438       0.253860       23.703127  \n",
       "\n",
       "[133464 rows x 30 columns]"
      ]
     },
     "execution_count": 65,
     "metadata": {},
     "output_type": "execute_result"
    }
   ],
   "source": [
    "data.loc[(data['distance_trans']<25)]"
   ]
  },
  {
   "cell_type": "code",
   "execution_count": 66,
   "id": "31a672c2",
   "metadata": {},
   "outputs": [],
   "source": [
    "data.loc[(data['distance_trans']<25),['location']]= 'Near_trans'"
   ]
  },
  {
   "cell_type": "code",
   "execution_count": 67,
   "id": "3f9b3b1b",
   "metadata": {},
   "outputs": [
    {
     "data": {
      "text/plain": [
       "0                 NaN\n",
       "1          Near_trans\n",
       "2                 NaN\n",
       "3                 NaN\n",
       "4                 NaN\n",
       "              ...    \n",
       "1296670           NaN\n",
       "1296671           NaN\n",
       "1296672           NaN\n",
       "1296673           NaN\n",
       "1296674           NaN\n",
       "Name: location, Length: 1296675, dtype: object"
      ]
     },
     "execution_count": 67,
     "metadata": {},
     "output_type": "execute_result"
    }
   ],
   "source": [
    "data['location']"
   ]
  },
  {
   "cell_type": "code",
   "execution_count": 68,
   "id": "2ddd973a",
   "metadata": {},
   "outputs": [],
   "source": [
    "#now above 25 and below 65 is far and above 65 is far"
   ]
  },
  {
   "cell_type": "code",
   "execution_count": 69,
   "id": "fb9b79b9",
   "metadata": {},
   "outputs": [],
   "source": [
    "data.loc[((data[\"distance_trans\"]>25) & (data[\"distance_trans\"]<65)),[\"location\"]] = \"Far_trans\"\n",
    "data.loc[(data[\"distance_trans\"]>65),[\"location\"]] = \"Very_Far_trans\""
   ]
  },
  {
   "cell_type": "code",
   "execution_count": 70,
   "id": "577b8b06",
   "metadata": {},
   "outputs": [
    {
     "data": {
      "text/plain": [
       "Far_trans         769637\n",
       "Very_Far_trans    393574\n",
       "Near_trans        133464\n",
       "Name: location, dtype: int64"
      ]
     },
     "execution_count": 70,
     "metadata": {},
     "output_type": "execute_result"
    }
   ],
   "source": [
    "data.location.value_counts()"
   ]
  },
  {
   "cell_type": "code",
   "execution_count": 71,
   "id": "ec1295f3",
   "metadata": {},
   "outputs": [],
   "source": [
    "#lets normalize this so that we can handle them"
   ]
  },
  {
   "cell_type": "code",
   "execution_count": 72,
   "id": "bbee3f98",
   "metadata": {},
   "outputs": [
    {
     "data": {
      "text/plain": [
       "Far_trans         0.593547\n",
       "Very_Far_trans    0.303526\n",
       "Near_trans        0.102928\n",
       "Name: location, dtype: float64"
      ]
     },
     "execution_count": 72,
     "metadata": {},
     "output_type": "execute_result"
    }
   ],
   "source": [
    "data.location.value_counts(normalize=True)"
   ]
  },
  {
   "cell_type": "code",
   "execution_count": 73,
   "id": "dfd08ba6",
   "metadata": {},
   "outputs": [],
   "source": [
    "# Now we have analysis of time and location we can categorize transaction every"
   ]
  },
  {
   "cell_type": "code",
   "execution_count": 74,
   "id": "87ee6d23",
   "metadata": {},
   "outputs": [
    {
     "data": {
      "text/plain": [
       "gas_transport     131659\n",
       "grocery_pos       123638\n",
       "home              123115\n",
       "shopping_pos      116672\n",
       "kids_pets         113035\n",
       "shopping_net       97543\n",
       "entertainment      94014\n",
       "food_dining        91461\n",
       "personal_care      90758\n",
       "health_fitness     85879\n",
       "misc_pos           79655\n",
       "misc_net           63287\n",
       "grocery_net        45452\n",
       "travel             40507\n",
       "Name: category, dtype: int64"
      ]
     },
     "execution_count": 74,
     "metadata": {},
     "output_type": "execute_result"
    }
   ],
   "source": [
    "data.category.value_counts()"
   ]
  },
  {
   "cell_type": "code",
   "execution_count": 75,
   "id": "a921d2af",
   "metadata": {},
   "outputs": [
    {
     "data": {
      "text/plain": [
       "fraud_Kilback LLC                       4403\n",
       "fraud_Cormier LLC                       3649\n",
       "fraud_Schumm PLC                        3634\n",
       "fraud_Kuhn LLC                          3510\n",
       "fraud_Boyer PLC                         3493\n",
       "                                        ... \n",
       "fraud_Douglas, DuBuque and McKenzie      775\n",
       "fraud_Treutel-King                       775\n",
       "fraud_Medhurst, Labadie and Gottlieb     759\n",
       "fraud_Reichert-Weissnat                  753\n",
       "fraud_Hahn, Douglas and Schowalter       727\n",
       "Name: merchant, Length: 693, dtype: int64"
      ]
     },
     "execution_count": 75,
     "metadata": {},
     "output_type": "execute_result"
    }
   ],
   "source": [
    "data.merchant.value_counts()"
   ]
  },
  {
   "cell_type": "code",
   "execution_count": 76,
   "id": "b9cdba97",
   "metadata": {},
   "outputs": [],
   "source": [
    "df=data.drop('trans_date_trans_time',axis=1)\n",
    "X=df.drop(['cc_num','is_fraud'], axis=1)\n",
    "y=df['is_fraud']"
   ]
  },
  {
   "cell_type": "code",
   "execution_count": 77,
   "id": "994dfaa9",
   "metadata": {},
   "outputs": [],
   "source": [
    "from sklearn.model_selection import train_test_split"
   ]
  },
  {
   "cell_type": "code",
   "execution_count": 78,
   "id": "ac8f8117",
   "metadata": {},
   "outputs": [],
   "source": [
    "X_train, X_test, y_train, y_test = train_test_split(X, y, test_size=0.3, stratify = y, random_state=42)"
   ]
  },
  {
   "cell_type": "code",
   "execution_count": 79,
   "id": "85d1dffc",
   "metadata": {},
   "outputs": [],
   "source": [
    "# before finishing making model, lets do some more digging"
   ]
  },
  {
   "cell_type": "code",
   "execution_count": 80,
   "id": "e7fc384b",
   "metadata": {},
   "outputs": [],
   "source": [
    "fraud_stat=data[data['is_fraud']==1]"
   ]
  },
  {
   "cell_type": "code",
   "execution_count": 81,
   "id": "ed0e3c62",
   "metadata": {},
   "outputs": [],
   "source": [
    "#lets plot at what time these frauds happen"
   ]
  },
  {
   "cell_type": "code",
   "execution_count": 82,
   "id": "869c339d",
   "metadata": {},
   "outputs": [
    {
     "data": {
      "text/plain": [
       "(-10.0, 35.0)"
      ]
     },
     "execution_count": 82,
     "metadata": {},
     "output_type": "execute_result"
    },
    {
     "data": {
      "image/png": "[encoded data removed]",
      "text/plain": [
       "<Figure size 432x288 with 1 Axes>"
      ]
     },
     "metadata": {
      "needs_background": "light"
     },
     "output_type": "display_data"
    }
   ],
   "source": [
    "sns.kdeplot(fraud_stat['Time'])\n",
    "plt.xlim(left=-10, right=35)"
   ]
  },
  {
   "cell_type": "code",
   "execution_count": 83,
   "id": "22b33a64",
   "metadata": {},
   "outputs": [
    {
     "data": {
      "text/plain": [
       "(array([17805., 17897., 17987., 18078., 18170., 18262., 18353., 18444.,\n",
       "        18536.]),\n",
       " [Text(0, 0, ''),\n",
       "  Text(0, 0, ''),\n",
       "  Text(0, 0, ''),\n",
       "  Text(0, 0, ''),\n",
       "  Text(0, 0, ''),\n",
       "  Text(0, 0, ''),\n",
       "  Text(0, 0, ''),\n",
       "  Text(0, 0, ''),\n",
       "  Text(0, 0, '')])"
      ]
     },
     "execution_count": 83,
     "metadata": {},
     "output_type": "execute_result"
    },
    {
     "data": {
      "image/png": "[encoded data removed]",
      "text/plain": [
       "<Figure size 432x288 with 1 Axes>"
      ]
     },
     "metadata": {
      "needs_background": "light"
     },
     "output_type": "display_data"
    }
   ],
   "source": [
    "sns.kdeplot(fraud_stat.trans_date_trans_time)\n",
    "plt.xticks()"
   ]
  },
  {
   "cell_type": "code",
   "execution_count": 84,
   "id": "7f2e5d4f",
   "metadata": {},
   "outputs": [
    {
     "name": "stderr",
     "output_type": "stream",
     "text": [
      "C:\\ProgramData\\Anaconda3\\lib\\site-packages\\seaborn\\_decorators.py:36: FutureWarning: Pass the following variable as a keyword arg: x. From version 0.12, the only valid positional argument will be `data`, and passing other arguments without an explicit keyword will result in an error or misinterpretation.\n",
      "  warnings.warn(\n"
     ]
    },
    {
     "data": {
      "text/plain": [
       "<AxesSubplot:xlabel='city_pop_segment', ylabel='count'>"
      ]
     },
     "execution_count": 84,
     "metadata": {},
     "output_type": "execute_result"
    },
    {
     "data": {
      "image/png": "[encoded data removed]",
      "text/plain": [
       "<Figure size 432x288 with 1 Axes>"
      ]
     },
     "metadata": {
      "needs_background": "light"
     },
     "output_type": "display_data"
    }
   ],
   "source": [
    "sns.countplot(fraud_stat[\"city_pop_segment\"])"
   ]
  },
  {
   "cell_type": "code",
   "execution_count": 85,
   "id": "9e92dd01",
   "metadata": {},
   "outputs": [
    {
     "data": {
      "text/plain": [
       "<AxesSubplot:xlabel='count', ylabel='state'>"
      ]
     },
     "execution_count": 85,
     "metadata": {},
     "output_type": "execute_result"
    },
    {
     "data": {
      "image/png": "[encoded data removed]",
      "text/plain": [
       "<Figure size 360x1440 with 1 Axes>"
      ]
     },
     "metadata": {
      "needs_background": "light"
     },
     "output_type": "display_data"
    }
   ],
   "source": [
    "plt.figure(figsize = [5,20])\n",
    "sns.countplot(y=fraud_stat.state)"
   ]
  },
  {
   "cell_type": "code",
   "execution_count": 86,
   "id": "e48cab5c",
   "metadata": {},
   "outputs": [],
   "source": [
    "#lets see updated_trans segmented hour based fraud"
   ]
  },
  {
   "cell_type": "code",
   "execution_count": 87,
   "id": "22ac013d",
   "metadata": {},
   "outputs": [
    {
     "data": {
      "text/plain": [
       "<AxesSubplot:xlabel='count', ylabel='recency_segment'>"
      ]
     },
     "execution_count": 87,
     "metadata": {},
     "output_type": "execute_result"
    },
    {
     "data": {
      "image/png": "[encoded data removed]",
      "text/plain": [
       "<Figure size 432x288 with 1 Axes>"
      ]
     },
     "metadata": {
      "needs_background": "light"
     },
     "output_type": "display_data"
    }
   ],
   "source": [
    "sns.countplot(y=fraud_stat.recency_segment)"
   ]
  },
  {
   "cell_type": "code",
   "execution_count": 88,
   "id": "19dda18e",
   "metadata": {},
   "outputs": [],
   "source": [
    "## above result is not giving full information"
   ]
  },
  {
   "cell_type": "code",
   "execution_count": 89,
   "id": "5099181f",
   "metadata": {},
   "outputs": [
    {
     "data": {
      "text/plain": [
       "<AxesSubplot:xlabel='count', ylabel='category'>"
      ]
     },
     "execution_count": 89,
     "metadata": {},
     "output_type": "execute_result"
    },
    {
     "data": {
      "image/png": "[encoded data removed]",
      "text/plain": [
       "<Figure size 432x288 with 1 Axes>"
      ]
     },
     "metadata": {
      "needs_background": "light"
     },
     "output_type": "display_data"
    }
   ],
   "source": [
    "sns.countplot(y=fraud_stat.category)"
   ]
  },
  {
   "cell_type": "code",
   "execution_count": 90,
   "id": "b6f209eb",
   "metadata": {},
   "outputs": [
    {
     "data": {
      "image/png": "[encoded data removed]",
      "text/plain": [
       "<Figure size 864x432 with 2 Axes>"
      ]
     },
     "metadata": {
      "needs_background": "light"
     },
     "output_type": "display_data"
    }
   ],
   "source": [
    "# checking fraud_peak hours in grocery_pos and shopping_net categories\n",
    "plt.figure(figsize=[12,6])\n",
    "plt.subplot(121)\n",
    "sns.kdeplot(x=fraud_stat[fraud_stat.category == \"grocery_pos\"].Time)\n",
    "plt.xlim(left=0,right=45)\n",
    "plt.title(label = \"In person Transactions Frauds\", fontdict = {\"color\": \"Red\", \"size\": 15, \"weight\" : \"5\"})\n",
    "plt.subplot(122)\n",
    "sns.kdeplot(x=fraud_stat[fraud_stat.category == \"shopping_net\"].Time)\n",
    "plt.title(label = \"Internet Shopping Transactions Frauds\", fontdict = {\"color\": \"Green\", \"size\": 15, \"weight\" : \"5\"})\n",
    "plt.xlim(left=0,right=45)\n",
    "plt.show()"
   ]
  },
  {
   "cell_type": "code",
   "execution_count": 91,
   "id": "7af0fdaf",
   "metadata": {},
   "outputs": [],
   "source": [
    "## Weirdly most frauds are after 8 pm or toward midnight"
   ]
  },
  {
   "cell_type": "code",
   "execution_count": 92,
   "id": "ff1c8304",
   "metadata": {},
   "outputs": [
    {
     "name": "stderr",
     "output_type": "stream",
     "text": [
      "C:\\ProgramData\\Anaconda3\\lib\\site-packages\\seaborn\\_decorators.py:36: FutureWarning: Pass the following variable as a keyword arg: x. From version 0.12, the only valid positional argument will be `data`, and passing other arguments without an explicit keyword will result in an error or misinterpretation.\n",
      "  warnings.warn(\n"
     ]
    },
    {
     "data": {
      "text/plain": [
       "<AxesSubplot:xlabel='location', ylabel='count'>"
      ]
     },
     "execution_count": 92,
     "metadata": {},
     "output_type": "execute_result"
    },
    {
     "data": {
      "image/png": "[encoded data removed]",
      "text/plain": [
       "<Figure size 432x288 with 1 Axes>"
      ]
     },
     "metadata": {
      "needs_background": "light"
     },
     "output_type": "display_data"
    }
   ],
   "source": [
    "sns.countplot(fraud_stat.location)"
   ]
  },
  {
   "cell_type": "code",
   "execution_count": 93,
   "id": "ad9b0fff",
   "metadata": {},
   "outputs": [
    {
     "name": "stderr",
     "output_type": "stream",
     "text": [
      "C:\\ProgramData\\Anaconda3\\lib\\site-packages\\seaborn\\_decorators.py:36: FutureWarning: Pass the following variable as a keyword arg: x. From version 0.12, the only valid positional argument will be `data`, and passing other arguments without an explicit keyword will result in an error or misinterpretation.\n",
      "  warnings.warn(\n"
     ]
    },
    {
     "data": {
      "text/plain": [
       "<AxesSubplot:xlabel='gender', ylabel='count'>"
      ]
     },
     "execution_count": 93,
     "metadata": {},
     "output_type": "execute_result"
    },
    {
     "data": {
      "image/png": "[encoded data removed]",
      "text/plain": [
       "<Figure size 432x288 with 1 Axes>"
      ]
     },
     "metadata": {
      "needs_background": "light"
     },
     "output_type": "display_data"
    }
   ],
   "source": [
    "sns.countplot(fraud_stat.gender)"
   ]
  },
  {
   "cell_type": "code",
   "execution_count": 94,
   "id": "be98908b",
   "metadata": {},
   "outputs": [],
   "source": [
    "#lets see in broader way in state level"
   ]
  },
  {
   "cell_type": "code",
   "execution_count": 95,
   "id": "ed997460",
   "metadata": {},
   "outputs": [
    {
     "data": {
      "text/plain": [
       "<AxesSubplot:xlabel='count', ylabel='state'>"
      ]
     },
     "execution_count": 95,
     "metadata": {},
     "output_type": "execute_result"
    },
    {
     "data": {
      "image/png": "[encoded data removed]",
      "text/plain": [
       "<Figure size 720x3960 with 1 Axes>"
      ]
     },
     "metadata": {
      "needs_background": "light"
     },
     "output_type": "display_data"
    }
   ],
   "source": [
    "plt.figure(figsize=[10,55])\n",
    "sns.countplot(y=fraud_stat.state, hue=fraud_stat.gender)"
   ]
  },
  {
   "cell_type": "code",
   "execution_count": 96,
   "id": "60d29c49",
   "metadata": {},
   "outputs": [
    {
     "data": {
      "text/plain": [
       "<AxesSubplot:xlabel='amt', ylabel='category'>"
      ]
     },
     "execution_count": 96,
     "metadata": {},
     "output_type": "execute_result"
    },
    {
     "data": {
      "image/png": "[encoded data removed]",
      "text/plain": [
       "<Figure size 432x288 with 1 Axes>"
      ]
     },
     "metadata": {
      "needs_background": "light"
     },
     "output_type": "display_data"
    }
   ],
   "source": [
    "fraud_cat = fraud_stat.groupby(by = \"category\").sum()\n",
    "sns.barplot(y = fraud_cat.index,x=fraud_cat.amt)"
   ]
  },
  {
   "cell_type": "code",
   "execution_count": 97,
   "id": "11c1760c",
   "metadata": {},
   "outputs": [],
   "source": [
    "## ratio of fraud "
   ]
  },
  {
   "cell_type": "code",
   "execution_count": 98,
   "id": "694714bd",
   "metadata": {},
   "outputs": [
    {
     "data": {
      "text/plain": [
       "(-10.0, 1661.1206523582957)"
      ]
     },
     "execution_count": 98,
     "metadata": {},
     "output_type": "execute_result"
    },
    {
     "data": {
      "image/png": "[encoded data removed]",
      "text/plain": [
       "<Figure size 432x288 with 1 Axes>"
      ]
     },
     "metadata": {
      "needs_background": "light"
     },
     "output_type": "display_data"
    }
   ],
   "source": [
    "sns.kdeplot(fraud_stat.amt)\n",
    "plt.xlim(left=-10)"
   ]
  },
  {
   "cell_type": "code",
   "execution_count": 99,
   "id": "78ca49d3",
   "metadata": {},
   "outputs": [
    {
     "data": {
      "text/plain": [
       "state\n",
       "AK    516.074167\n",
       "AL    523.706930\n",
       "AR    503.973975\n",
       "AZ    495.503243\n",
       "CA    524.367853\n",
       "CO    524.795841\n",
       "CT    674.275000\n",
       "DC    459.017143\n",
       "DE    514.493333\n",
       "FL    537.057046\n",
       "GA    531.886027\n",
       "HI    560.970000\n",
       "IA    492.993380\n",
       "ID    626.721818\n",
       "IL    517.911250\n",
       "IN    633.890282\n",
       "KS    498.178846\n",
       "KY    546.687806\n",
       "LA    537.604945\n",
       "MA    633.533333\n",
       "MD    498.298599\n",
       "ME    552.585882\n",
       "MI    508.454118\n",
       "MN    543.257923\n",
       "MO    487.393194\n",
       "MS    552.744000\n",
       "MT    524.257500\n",
       "NC    486.111879\n",
       "ND    596.441579\n",
       "NE    556.401722\n",
       "NH    619.903898\n",
       "NJ    565.327373\n",
       "NM    569.868659\n",
       "NV    527.520851\n",
       "NY    532.520072\n",
       "OH    526.230467\n",
       "OK    518.444965\n",
       "OR    538.386980\n",
       "PA    534.115000\n",
       "RI    732.984000\n",
       "SC    496.749741\n",
       "SD    527.244595\n",
       "TN    542.513143\n",
       "TX    554.919436\n",
       "UT    413.518525\n",
       "VA    514.166566\n",
       "VT    617.669444\n",
       "WA    456.171771\n",
       "WI    552.814356\n",
       "WV    522.755616\n",
       "WY    491.854364\n",
       "Name: amt, dtype: float64"
      ]
     },
     "execution_count": 99,
     "metadata": {},
     "output_type": "execute_result"
    }
   ],
   "source": [
    "fraud_stat.groupby('state')['amt'].mean()"
   ]
  },
  {
   "cell_type": "code",
   "execution_count": 100,
   "id": "48604e72",
   "metadata": {},
   "outputs": [
    {
     "data": {
      "text/plain": [
       "(-10.0, 1693.894220823492)"
      ]
     },
     "execution_count": 100,
     "metadata": {},
     "output_type": "execute_result"
    },
    {
     "data": {
      "image/png": "[encoded data removed]",
      "text/plain": [
       "<Figure size 432x288 with 1 Axes>"
      ]
     },
     "metadata": {
      "needs_background": "light"
     },
     "output_type": "display_data"
    }
   ],
   "source": [
    "sns.kdeplot(fraud_stat.amt,hue=fraud_stat.gender)\n",
    "plt.xlim(left=-10)"
   ]
  },
  {
   "cell_type": "code",
   "execution_count": 101,
   "id": "659c3217",
   "metadata": {},
   "outputs": [],
   "source": [
    "## Therefore males are mostly scammed or fraud happens with them"
   ]
  },
  {
   "cell_type": "code",
   "execution_count": 102,
   "id": "85251ff0",
   "metadata": {},
   "outputs": [],
   "source": [
    "## Now lets build some model to see how it works"
   ]
  },
  {
   "cell_type": "code",
   "execution_count": null,
   "id": "3a60c1ce",
   "metadata": {},
   "outputs": [],
   "source": [
    "# We see that the data is very imbalanced so we need to drop features and remove multicollinearity and remove state wise details\n",
    "#so because of class imbalance can raise some unwanted cases.\n"
   ]
  },
  {
   "cell_type": "code",
   "execution_count": null,
   "id": "b4abad11",
   "metadata": {},
   "outputs": [],
   "source": []
  },
  {
   "cell_type": "code",
   "execution_count": null,
   "id": "d0a0aaee",
   "metadata": {},
   "outputs": [],
   "source": [
    "transactions_df.to_csv('cctransactions.csv')"
   ]
  }
 ],
 "metadata": {
  "kernelspec": {
   "display_name": "Python 3 (ipykernel)",
   "language": "python",
   "name": "python3"
  },
  "language_info": {
   "codemirror_mode": {
    "name": "ipython",
    "version": 3
   },
   "file_extension": ".py",
   "mimetype": "text/x-python",
   "name": "python",
   "nbconvert_exporter": "python",
   "pygments_lexer": "ipython3",
   "version": "3.9.7"
  }
 },
 "nbformat": 4,
 "nbformat_minor": 5
}
