{
 "cells": [
  {
   "cell_type": "code",
   "execution_count": 8,
   "id": "ebb2754b",
   "metadata": {},
   "outputs": [],
   "source": [
    "import pandas as pd\n",
    "import numpy as np\n",
    "from datetime import datetime, timedelta \n",
    "\n",
    "import matplotlib.pyplot as plt\n",
    "import seaborn as sns\n",
    "import matplotlib.gridspec as gridspec\n",
    "%matplotlib inline\n",
    "\n",
    "import scipy.stats as stats\n",
    "\n",
    "from geopy.distance import geodesic\n",
    "import geopy.distance\n",
    "\n",
    "from sklearn.preprocessing import OrdinalEncoder\n",
    "from sklearn.preprocessing import OneHotEncoder\n",
    "from sklearn.preprocessing import PowerTransformer\n",
    "\n",
    "from sklearn import model_selection\n",
    "from sklearn.model_selection import cross_val_score\n",
    "from sklearn.model_selection import train_test_split\n",
    "from sklearn.model_selection import StratifiedKFold\n",
    "from sklearn.model_selection import RandomizedSearchCV\n",
    "\n",
    "from sklearn.linear_model import LogisticRegression\n",
    "\n",
    "from sklearn.tree import DecisionTreeClassifier"
   ]
  },
  {
   "cell_type": "code",
   "execution_count": 9,
   "id": "e4920cc6",
   "metadata": {},
   "outputs": [
    {
     "ename": "FileNotFoundError",
     "evalue": "[Errno 2] No such file or directory: 'Data_Detailed/fraudDetailed.csv.csv'",
     "output_type": "error",
     "traceback": [
      "\u001b[1;31m---------------------------------------------------------------------------\u001b[0m",
      "\u001b[1;31mFileNotFoundError\u001b[0m                         Traceback (most recent call last)",
      "\u001b[1;32m~\\AppData\\Local\\Temp/ipykernel_23856/2004427732.py\u001b[0m in \u001b[0;36m<module>\u001b[1;34m\u001b[0m\n\u001b[0;32m      1\u001b[0m \u001b[0mtrain\u001b[0m \u001b[1;33m=\u001b[0m \u001b[0mpd\u001b[0m\u001b[1;33m.\u001b[0m\u001b[0mread_csv\u001b[0m\u001b[1;33m(\u001b[0m\u001b[1;34m'Data_Detailed/frauddata_detailed.csv'\u001b[0m\u001b[1;33m)\u001b[0m\u001b[1;33m\u001b[0m\u001b[1;33m\u001b[0m\u001b[0m\n\u001b[0;32m      2\u001b[0m \u001b[0mtrain\u001b[0m\u001b[1;33m\u001b[0m\u001b[1;33m\u001b[0m\u001b[0m\n\u001b[1;32m----> 3\u001b[1;33m \u001b[0mtest\u001b[0m \u001b[1;33m=\u001b[0m \u001b[0mpd\u001b[0m\u001b[1;33m.\u001b[0m\u001b[0mread_csv\u001b[0m\u001b[1;33m(\u001b[0m\u001b[1;34m'Data_Detailed/fraudDetailed.csv.csv'\u001b[0m\u001b[1;33m)\u001b[0m\u001b[1;33m\u001b[0m\u001b[1;33m\u001b[0m\u001b[0m\n\u001b[0m\u001b[0;32m      4\u001b[0m \u001b[0mtest\u001b[0m\u001b[1;33m\u001b[0m\u001b[1;33m\u001b[0m\u001b[0m\n",
      "\u001b[1;32mC:\\ProgramData\\Anaconda3\\lib\\site-packages\\pandas\\util\\_decorators.py\u001b[0m in \u001b[0;36mwrapper\u001b[1;34m(*args, **kwargs)\u001b[0m\n\u001b[0;32m    309\u001b[0m                     \u001b[0mstacklevel\u001b[0m\u001b[1;33m=\u001b[0m\u001b[0mstacklevel\u001b[0m\u001b[1;33m,\u001b[0m\u001b[1;33m\u001b[0m\u001b[1;33m\u001b[0m\u001b[0m\n\u001b[0;32m    310\u001b[0m                 )\n\u001b[1;32m--> 311\u001b[1;33m             \u001b[1;32mreturn\u001b[0m \u001b[0mfunc\u001b[0m\u001b[1;33m(\u001b[0m\u001b[1;33m*\u001b[0m\u001b[0margs\u001b[0m\u001b[1;33m,\u001b[0m \u001b[1;33m**\u001b[0m\u001b[0mkwargs\u001b[0m\u001b[1;33m)\u001b[0m\u001b[1;33m\u001b[0m\u001b[1;33m\u001b[0m\u001b[0m\n\u001b[0m\u001b[0;32m    312\u001b[0m \u001b[1;33m\u001b[0m\u001b[0m\n\u001b[0;32m    313\u001b[0m         \u001b[1;32mreturn\u001b[0m \u001b[0mwrapper\u001b[0m\u001b[1;33m\u001b[0m\u001b[1;33m\u001b[0m\u001b[0m\n",
      "\u001b[1;32mC:\\ProgramData\\Anaconda3\\lib\\site-packages\\pandas\\io\\parsers\\readers.py\u001b[0m in \u001b[0;36mread_csv\u001b[1;34m(filepath_or_buffer, sep, delimiter, header, names, index_col, usecols, squeeze, prefix, mangle_dupe_cols, dtype, engine, converters, true_values, false_values, skipinitialspace, skiprows, skipfooter, nrows, na_values, keep_default_na, na_filter, verbose, skip_blank_lines, parse_dates, infer_datetime_format, keep_date_col, date_parser, dayfirst, cache_dates, iterator, chunksize, compression, thousands, decimal, lineterminator, quotechar, quoting, doublequote, escapechar, comment, encoding, encoding_errors, dialect, error_bad_lines, warn_bad_lines, on_bad_lines, delim_whitespace, low_memory, memory_map, float_precision, storage_options)\u001b[0m\n\u001b[0;32m    584\u001b[0m     \u001b[0mkwds\u001b[0m\u001b[1;33m.\u001b[0m\u001b[0mupdate\u001b[0m\u001b[1;33m(\u001b[0m\u001b[0mkwds_defaults\u001b[0m\u001b[1;33m)\u001b[0m\u001b[1;33m\u001b[0m\u001b[1;33m\u001b[0m\u001b[0m\n\u001b[0;32m    585\u001b[0m \u001b[1;33m\u001b[0m\u001b[0m\n\u001b[1;32m--> 586\u001b[1;33m     \u001b[1;32mreturn\u001b[0m \u001b[0m_read\u001b[0m\u001b[1;33m(\u001b[0m\u001b[0mfilepath_or_buffer\u001b[0m\u001b[1;33m,\u001b[0m \u001b[0mkwds\u001b[0m\u001b[1;33m)\u001b[0m\u001b[1;33m\u001b[0m\u001b[1;33m\u001b[0m\u001b[0m\n\u001b[0m\u001b[0;32m    587\u001b[0m \u001b[1;33m\u001b[0m\u001b[0m\n\u001b[0;32m    588\u001b[0m \u001b[1;33m\u001b[0m\u001b[0m\n",
      "\u001b[1;32mC:\\ProgramData\\Anaconda3\\lib\\site-packages\\pandas\\io\\parsers\\readers.py\u001b[0m in \u001b[0;36m_read\u001b[1;34m(filepath_or_buffer, kwds)\u001b[0m\n\u001b[0;32m    480\u001b[0m \u001b[1;33m\u001b[0m\u001b[0m\n\u001b[0;32m    481\u001b[0m     \u001b[1;31m# Create the parser.\u001b[0m\u001b[1;33m\u001b[0m\u001b[1;33m\u001b[0m\u001b[0m\n\u001b[1;32m--> 482\u001b[1;33m     \u001b[0mparser\u001b[0m \u001b[1;33m=\u001b[0m \u001b[0mTextFileReader\u001b[0m\u001b[1;33m(\u001b[0m\u001b[0mfilepath_or_buffer\u001b[0m\u001b[1;33m,\u001b[0m \u001b[1;33m**\u001b[0m\u001b[0mkwds\u001b[0m\u001b[1;33m)\u001b[0m\u001b[1;33m\u001b[0m\u001b[1;33m\u001b[0m\u001b[0m\n\u001b[0m\u001b[0;32m    483\u001b[0m \u001b[1;33m\u001b[0m\u001b[0m\n\u001b[0;32m    484\u001b[0m     \u001b[1;32mif\u001b[0m \u001b[0mchunksize\u001b[0m \u001b[1;32mor\u001b[0m \u001b[0miterator\u001b[0m\u001b[1;33m:\u001b[0m\u001b[1;33m\u001b[0m\u001b[1;33m\u001b[0m\u001b[0m\n",
      "\u001b[1;32mC:\\ProgramData\\Anaconda3\\lib\\site-packages\\pandas\\io\\parsers\\readers.py\u001b[0m in \u001b[0;36m__init__\u001b[1;34m(self, f, engine, **kwds)\u001b[0m\n\u001b[0;32m    809\u001b[0m             \u001b[0mself\u001b[0m\u001b[1;33m.\u001b[0m\u001b[0moptions\u001b[0m\u001b[1;33m[\u001b[0m\u001b[1;34m\"has_index_names\"\u001b[0m\u001b[1;33m]\u001b[0m \u001b[1;33m=\u001b[0m \u001b[0mkwds\u001b[0m\u001b[1;33m[\u001b[0m\u001b[1;34m\"has_index_names\"\u001b[0m\u001b[1;33m]\u001b[0m\u001b[1;33m\u001b[0m\u001b[1;33m\u001b[0m\u001b[0m\n\u001b[0;32m    810\u001b[0m \u001b[1;33m\u001b[0m\u001b[0m\n\u001b[1;32m--> 811\u001b[1;33m         \u001b[0mself\u001b[0m\u001b[1;33m.\u001b[0m\u001b[0m_engine\u001b[0m \u001b[1;33m=\u001b[0m \u001b[0mself\u001b[0m\u001b[1;33m.\u001b[0m\u001b[0m_make_engine\u001b[0m\u001b[1;33m(\u001b[0m\u001b[0mself\u001b[0m\u001b[1;33m.\u001b[0m\u001b[0mengine\u001b[0m\u001b[1;33m)\u001b[0m\u001b[1;33m\u001b[0m\u001b[1;33m\u001b[0m\u001b[0m\n\u001b[0m\u001b[0;32m    812\u001b[0m \u001b[1;33m\u001b[0m\u001b[0m\n\u001b[0;32m    813\u001b[0m     \u001b[1;32mdef\u001b[0m \u001b[0mclose\u001b[0m\u001b[1;33m(\u001b[0m\u001b[0mself\u001b[0m\u001b[1;33m)\u001b[0m\u001b[1;33m:\u001b[0m\u001b[1;33m\u001b[0m\u001b[1;33m\u001b[0m\u001b[0m\n",
      "\u001b[1;32mC:\\ProgramData\\Anaconda3\\lib\\site-packages\\pandas\\io\\parsers\\readers.py\u001b[0m in \u001b[0;36m_make_engine\u001b[1;34m(self, engine)\u001b[0m\n\u001b[0;32m   1038\u001b[0m             )\n\u001b[0;32m   1039\u001b[0m         \u001b[1;31m# error: Too many arguments for \"ParserBase\"\u001b[0m\u001b[1;33m\u001b[0m\u001b[1;33m\u001b[0m\u001b[0m\n\u001b[1;32m-> 1040\u001b[1;33m         \u001b[1;32mreturn\u001b[0m \u001b[0mmapping\u001b[0m\u001b[1;33m[\u001b[0m\u001b[0mengine\u001b[0m\u001b[1;33m]\u001b[0m\u001b[1;33m(\u001b[0m\u001b[0mself\u001b[0m\u001b[1;33m.\u001b[0m\u001b[0mf\u001b[0m\u001b[1;33m,\u001b[0m \u001b[1;33m**\u001b[0m\u001b[0mself\u001b[0m\u001b[1;33m.\u001b[0m\u001b[0moptions\u001b[0m\u001b[1;33m)\u001b[0m  \u001b[1;31m# type: ignore[call-arg]\u001b[0m\u001b[1;33m\u001b[0m\u001b[1;33m\u001b[0m\u001b[0m\n\u001b[0m\u001b[0;32m   1041\u001b[0m \u001b[1;33m\u001b[0m\u001b[0m\n\u001b[0;32m   1042\u001b[0m     \u001b[1;32mdef\u001b[0m \u001b[0m_failover_to_python\u001b[0m\u001b[1;33m(\u001b[0m\u001b[0mself\u001b[0m\u001b[1;33m)\u001b[0m\u001b[1;33m:\u001b[0m\u001b[1;33m\u001b[0m\u001b[1;33m\u001b[0m\u001b[0m\n",
      "\u001b[1;32mC:\\ProgramData\\Anaconda3\\lib\\site-packages\\pandas\\io\\parsers\\c_parser_wrapper.py\u001b[0m in \u001b[0;36m__init__\u001b[1;34m(self, src, **kwds)\u001b[0m\n\u001b[0;32m     49\u001b[0m \u001b[1;33m\u001b[0m\u001b[0m\n\u001b[0;32m     50\u001b[0m         \u001b[1;31m# open handles\u001b[0m\u001b[1;33m\u001b[0m\u001b[1;33m\u001b[0m\u001b[0m\n\u001b[1;32m---> 51\u001b[1;33m         \u001b[0mself\u001b[0m\u001b[1;33m.\u001b[0m\u001b[0m_open_handles\u001b[0m\u001b[1;33m(\u001b[0m\u001b[0msrc\u001b[0m\u001b[1;33m,\u001b[0m \u001b[0mkwds\u001b[0m\u001b[1;33m)\u001b[0m\u001b[1;33m\u001b[0m\u001b[1;33m\u001b[0m\u001b[0m\n\u001b[0m\u001b[0;32m     52\u001b[0m         \u001b[1;32massert\u001b[0m \u001b[0mself\u001b[0m\u001b[1;33m.\u001b[0m\u001b[0mhandles\u001b[0m \u001b[1;32mis\u001b[0m \u001b[1;32mnot\u001b[0m \u001b[1;32mNone\u001b[0m\u001b[1;33m\u001b[0m\u001b[1;33m\u001b[0m\u001b[0m\n\u001b[0;32m     53\u001b[0m \u001b[1;33m\u001b[0m\u001b[0m\n",
      "\u001b[1;32mC:\\ProgramData\\Anaconda3\\lib\\site-packages\\pandas\\io\\parsers\\base_parser.py\u001b[0m in \u001b[0;36m_open_handles\u001b[1;34m(self, src, kwds)\u001b[0m\n\u001b[0;32m    220\u001b[0m         \u001b[0mLet\u001b[0m \u001b[0mthe\u001b[0m \u001b[0mreaders\u001b[0m \u001b[0mopen\u001b[0m \u001b[0mIOHandles\u001b[0m \u001b[0mafter\u001b[0m \u001b[0mthey\u001b[0m \u001b[0mare\u001b[0m \u001b[0mdone\u001b[0m \u001b[1;32mwith\u001b[0m \u001b[0mtheir\u001b[0m \u001b[0mpotential\u001b[0m \u001b[0mraises\u001b[0m\u001b[1;33m.\u001b[0m\u001b[1;33m\u001b[0m\u001b[1;33m\u001b[0m\u001b[0m\n\u001b[0;32m    221\u001b[0m         \"\"\"\n\u001b[1;32m--> 222\u001b[1;33m         self.handles = get_handle(\n\u001b[0m\u001b[0;32m    223\u001b[0m             \u001b[0msrc\u001b[0m\u001b[1;33m,\u001b[0m\u001b[1;33m\u001b[0m\u001b[1;33m\u001b[0m\u001b[0m\n\u001b[0;32m    224\u001b[0m             \u001b[1;34m\"r\"\u001b[0m\u001b[1;33m,\u001b[0m\u001b[1;33m\u001b[0m\u001b[1;33m\u001b[0m\u001b[0m\n",
      "\u001b[1;32mC:\\ProgramData\\Anaconda3\\lib\\site-packages\\pandas\\io\\common.py\u001b[0m in \u001b[0;36mget_handle\u001b[1;34m(path_or_buf, mode, encoding, compression, memory_map, is_text, errors, storage_options)\u001b[0m\n\u001b[0;32m    700\u001b[0m         \u001b[1;32mif\u001b[0m \u001b[0mioargs\u001b[0m\u001b[1;33m.\u001b[0m\u001b[0mencoding\u001b[0m \u001b[1;32mand\u001b[0m \u001b[1;34m\"b\"\u001b[0m \u001b[1;32mnot\u001b[0m \u001b[1;32min\u001b[0m \u001b[0mioargs\u001b[0m\u001b[1;33m.\u001b[0m\u001b[0mmode\u001b[0m\u001b[1;33m:\u001b[0m\u001b[1;33m\u001b[0m\u001b[1;33m\u001b[0m\u001b[0m\n\u001b[0;32m    701\u001b[0m             \u001b[1;31m# Encoding\u001b[0m\u001b[1;33m\u001b[0m\u001b[1;33m\u001b[0m\u001b[0m\n\u001b[1;32m--> 702\u001b[1;33m             handle = open(\n\u001b[0m\u001b[0;32m    703\u001b[0m                 \u001b[0mhandle\u001b[0m\u001b[1;33m,\u001b[0m\u001b[1;33m\u001b[0m\u001b[1;33m\u001b[0m\u001b[0m\n\u001b[0;32m    704\u001b[0m                 \u001b[0mioargs\u001b[0m\u001b[1;33m.\u001b[0m\u001b[0mmode\u001b[0m\u001b[1;33m,\u001b[0m\u001b[1;33m\u001b[0m\u001b[1;33m\u001b[0m\u001b[0m\n",
      "\u001b[1;31mFileNotFoundError\u001b[0m: [Errno 2] No such file or directory: 'Data_Detailed/fraudDetailed.csv.csv'"
     ]
    }
   ],
   "source": [
    "train = pd.read_csv('Data_Detailed/frauddata_detailed.csv')\n",
    "train\n",
    "test = pd.read_csv('Data_Detailed/fraudDetailed.csv.csv')\n",
    "test"
   ]
  },
  {
   "cell_type": "code",
   "execution_count": null,
   "id": "4e277588",
   "metadata": {},
   "outputs": [],
   "source": [
    "def details(df):\n",
    "    sum_null_values = df.isnull().sum()\n",
    "    percent_null_values = 100* (sum_null_values/len(df))\n",
    "    data_type = df.dtypes\n",
    "    unique_values = df.nunique()\n",
    "\n",
    "    table = pd.concat([sum_null_values,percent_null_values,data_type,unique_values], axis=1)\n",
    "    table_col = table.rename(columns = {0 : 'Missing Values', 1 : '% of Total Missing Values', 2 : 'Data_Type', 3: 'Unique values'})\n",
    "    return table_col"
   ]
  },
  {
   "cell_type": "code",
   "execution_count": null,
   "id": "9e9cf4ea",
   "metadata": {},
   "outputs": [],
   "source": [
    "df_train = train.iloc[0:,1:]\n",
    "df_test = test.iloc[0:,1:]\n",
    "\n",
    "df_train['Full_Name'] = df_train['first'] +' ' + df_train['last']\n",
    "df_test['Full_Name'] = df_test['first'] +' ' + df_test['last']\n",
    "\n",
    "df_train.drop(['first','last'],1,inplace=True)\n",
    "df_test.drop(['first','last'],1,inplace=True)\n",
    "\n",
    "df_train['trans_date_trans_time'] = pd.to_datetime(df_train['trans_date_trans_time'], errors='coerce')\n",
    "df_train['dob'] = pd.to_datetime(df_train['dob'], errors='coerce')\n",
    "df_train['unix_time'] = pd.to_datetime(df_train['unix_time'], errors='coerce')\n",
    "\n",
    "df_train['Transaction_Date'] = (df_train['trans_date_trans_time']).dt.date.astype('datetime64[ns]')\n",
    "df_train['age'] = df_train['Transaction_Date'].dt.year - df_train['dob'].dt.year\n",
    "df_train.drop('dob',1,inplace=True)\n",
    "\n",
    "df_test['trans_date_trans_time'] = pd.to_datetime(df_test['trans_date_trans_time'], errors='coerce')\n",
    "df_test['dob'] = pd.to_datetime(df_test['dob'], errors='coerce')\n",
    "df_test['unix_time'] = pd.to_datetime(df_test['unix_time'], errors='coerce')\n",
    "\n",
    "df_test['Transaction_Date'] = (df_test['trans_date_trans_time']).dt.date.astype('datetime64[ns]')\n",
    "df_test['age'] = df_test['Transaction_Date'].dt.year - df_test['dob'].dt.year\n",
    "df_test.drop('dob',1,inplace=True)"
   ]
  },
  {
   "cell_type": "code",
   "execution_count": null,
   "id": "6f9e1934",
   "metadata": {},
   "outputs": [],
   "source": [
    "df_train['weekday_no'] = df_train['trans_date_trans_time'].dt.dayofweek\n",
    "df_train['week_day'] = df_train['trans_date_trans_time'].dt.day_name()\n",
    "df_train['week_no'] = df_train['trans_date_trans_time'].dt.week\n",
    "df_train['day_no'] = df_train['trans_date_trans_time'].dt.day\n",
    "df_train['min_day'] = df_train['trans_date_trans_time'].dt.minute\n",
    "df_train['hr_day'] = df_train['trans_date_trans_time'].dt.hour\n",
    "df_train['month_name'] = df_train['trans_date_trans_time'].dt.month_name()\n",
    "df_train['month'] = df_train['trans_date_trans_time'].dt.month\n",
    "df_train['year'] = df_train['trans_date_trans_time'].dt.year\n",
    "df_train['year_dayno'] = df_train['trans_date_trans_time'].dt.dayofyear\n",
    "\n",
    "df_test['weekday_no'] = df_test['trans_date_trans_time'].dt.dayofweek\n",
    "df_test['week_day'] = df_test['trans_date_trans_time'].dt.day_name()\n",
    "df_test['week_no'] = df_test['trans_date_trans_time'].dt.week\n",
    "df_test['day_no'] = df_test['trans_date_trans_time'].dt.day\n",
    "df_test['min_day'] = df_test['trans_date_trans_time'].dt.minute\n",
    "df_test['hr_day'] = df_test['trans_date_trans_time'].dt.hour\n",
    "df_test['month_name'] = df_test['trans_date_trans_time'].dt.month_name()\n",
    "df_test['month'] = df_test['trans_date_trans_time'].dt.month\n",
    "df_test['year'] = df_test['trans_date_trans_time'].dt.year\n",
    "df_test['year_dayno'] = df_test['trans_date_trans_time'].dt.dayofyear"
   ]
  },
  {
   "cell_type": "code",
   "execution_count": null,
   "id": "7cc5df6a",
   "metadata": {},
   "outputs": [],
   "source": [
    "def haversine_np(lon1, lat1, lon2, lat2):\n",
    "    \"\"\"\n",
    "    Calculate the great circle distance between two points\n",
    "    on the earth (specified in decimal degrees)\n",
    "\n",
    "    All args must be of equal length.    \n",
    "\n",
    "    \"\"\"\n",
    "    lon1, lat1, lon2, lat2 = map(np.radians, [lon1, lat1, lon2, lat2])\n",
    "    \n",
    "    ''' Feed longitude first and latitude second'''\n",
    "\n",
    "    dlon = lon2 - lon1\n",
    "    dlat = lat2 - lat1\n",
    "\n",
    "    a = np.sin(dlat/2.0)**2 + np.cos(lat1) * np.cos(lat2) * np.sin(dlon/2.0)**2\n",
    "\n",
    "    c = 2 * np.arcsin(np.sqrt(a))\n",
    "    km = 6371 * c  #6367\n",
    "    return km"
   ]
  },
  {
   "cell_type": "code",
   "execution_count": null,
   "id": "0b431b67",
   "metadata": {},
   "outputs": [],
   "source": [
    "#Distance from same origin people co-ord \n",
    "df_train['dist_same_origin_co-ord(kms)'] = haversine_np(df_train['long'][0], df_train['lat'][0], df_train.loc[1:, 'long'], df_train.loc[1:, 'lat'])\n",
    "#longitude first, latitude second\n",
    "#Distance between successive people co-ord  \n",
    "df_train['distance_successive_co-ord(kms)'] = haversine_np(df_train.long.shift(), df_train.lat.shift(), df_train.loc[1:, 'long'], df_train.loc[1:, 'lat'])\n",
    "#longitude first, latitude second\n",
    "#Distance between people co-ord and merchant co-ord\n",
    "df_train['distance_people_to_merchant_co-ord(kms)'] = haversine_np(df_train['long'],df_train['lat'],df_train['merch_long'],df_train['merch_lat'])\n",
    "#longitude first, latitude second"
   ]
  },
  {
   "cell_type": "code",
   "execution_count": null,
   "id": "6712ce90",
   "metadata": {},
   "outputs": [],
   "source": [
    "#Distance from same origin people co-ord \n",
    "df_test['dist_same_origin_co-ord(kms)'] = haversine_np(df_test['long'][0], df_test['lat'][0], df_test.loc[1:, 'long'], df_test.loc[1:, 'lat'])\n",
    "#longitude first, latitude second\n",
    "#Distance between successive people co-ord  \n",
    "df_test['distance_successive_co-ord(kms)'] = haversine_np(df_test.long.shift(), df_test.lat.shift(), df_test.loc[1:, 'long'], df_test.loc[1:, 'lat'])\n",
    "#longitude first, latitude second\n",
    "#Distance between people co-ord and merchant co-ord\n",
    "df_test['distance_people_to_merchant_co-ord(kms)'] = haversine_np(df_test['long'],df_test['lat'],df_test['merch_long'],df_test['merch_lat'])\n",
    "#longitude first, latitude second"
   ]
  },
  {
   "cell_type": "code",
   "execution_count": null,
   "id": "5b2526dc",
   "metadata": {},
   "outputs": [],
   "source": [
    "# Delta between successive times\n",
    "df_train['delta_time'] = df_train['trans_date_trans_time']-df_train['trans_date_trans_time'].shift()\n",
    "\n",
    "# Delta between successive times in seconds\n",
    "df_train['delta_time(sec)'] = df_train['delta_time'].dt.total_seconds()\n",
    "\n",
    "# Delta time elapsed from origin\n",
    "dt = pd.to_datetime(df_train['trans_date_trans_time'].iloc[0])\n",
    "df_train['delta_time_elapsed'] = df_train['trans_date_trans_time'] - dt\n",
    "\n",
    "# Delta time from origin converted to days\n",
    "df_train['delta_time_elapsed(days)'] = df_train['delta_time_elapsed'].dt.days"
   ]
  },
  {
   "cell_type": "code",
   "execution_count": null,
   "id": "74a6bdc3",
   "metadata": {},
   "outputs": [],
   "source": [
    "# Delta between successive times\n",
    "df_test['delta_time'] = df_test['trans_date_trans_time']-df_test['trans_date_trans_time'].shift()\n",
    "\n",
    "# Delta between successive times in seconds\n",
    "df_test['delta_time(sec)'] = df_test['delta_time'].dt.total_seconds()\n",
    "\n",
    "# Delta time elapsed from origin\n",
    "dt = pd.to_datetime(df_test['trans_date_trans_time'].iloc[0])\n",
    "df_test['delta_time_elapsed'] = df_test['trans_date_trans_time'] - dt\n",
    "\n",
    "# Delta time from origin converted to days\n",
    "df_test['delta_time_elapsed(days)'] = df_test['delta_time_elapsed'].dt.days"
   ]
  },
  {
   "cell_type": "code",
   "execution_count": null,
   "id": "c47a6d59",
   "metadata": {},
   "outputs": [],
   "source": [
    "df_train.loc[pd.isnull(df_train['dist_same_origin_co-ord(kms)']), ['dist_same_origin_co-ord(kms)']] = 0.0\n",
    "df_train.loc[pd.isnull(df_train['distance_successive_co-ord(kms)']), ['distance_successive_co-ord(kms)']] = 0.0\n",
    "df_train.loc[pd.isnull(df_train['delta_time']), ['delta_time']] = pd.to_timedelta('0 days 00:00:00')\n",
    "df_train.loc[pd.isnull(df_train['delta_time(sec)']), ['delta_time(sec)']] = 0.0"
   ]
  },
  {
   "cell_type": "code",
   "execution_count": null,
   "id": "5f3d9ad5",
   "metadata": {},
   "outputs": [],
   "source": [
    "df_test.loc[pd.isnull(df_test['dist_same_origin_co-ord(kms)']), ['dist_same_origin_co-ord(kms)']] = 0.0\n",
    "df_test.loc[pd.isnull(df_test['distance_successive_co-ord(kms)']), ['distance_successive_co-ord(kms)']] = 0.0\n",
    "df_test.loc[pd.isnull(df_test['delta_time']), ['delta_time']] = pd.to_timedelta('0 days 00:00:00')\n",
    "df_test.loc[pd.isnull(df_test['delta_time(sec)']), ['delta_time(sec)']] = 0.0"
   ]
  },
  {
   "cell_type": "code",
   "execution_count": null,
   "id": "c1ec83e2",
   "metadata": {},
   "outputs": [],
   "source": [
    "non_fraud_train = df_train[df_train['is_fraud'] == 0]\n",
    "fraud_train = df_train[df_train['is_fraud'] == 1]\n",
    "\n",
    "non_fraud_test = df_test[df_test['is_fraud'] == 0]\n",
    "fraud_test = df_test[df_test['is_fraud'] == 1]"
   ]
  },
  {
   "cell_type": "code",
   "execution_count": null,
   "id": "55b45bc4",
   "metadata": {},
   "outputs": [],
   "source": [
    "non_fraud_train.groupby('month_name')['amt'].mean()"
   ]
  },
  {
   "cell_type": "code",
   "execution_count": null,
   "id": "bff32211",
   "metadata": {},
   "outputs": [],
   "source": [
    "fraud_train.groupby('month_name')['amt'].mean()"
   ]
  },
  {
   "cell_type": "code",
   "execution_count": null,
   "id": "3cc58787",
   "metadata": {},
   "outputs": [],
   "source": [
    "fraud_train[fraud_train['is_fraud'] == 1]['amt'].sort_values(ascending=False)[:10]   "
   ]
  },
  {
   "cell_type": "code",
   "execution_count": null,
   "id": "f4a25e0d",
   "metadata": {},
   "outputs": [],
   "source": [
    "fraud_train.groupby([\"year\",'category'])['amt'].agg(['sum'])  "
   ]
  },
  {
   "cell_type": "code",
   "execution_count": null,
   "id": "7f6c4da5",
   "metadata": {},
   "outputs": [],
   "source": [
    "fraud_train.groupby(['cc_num'])['amt'].sum().sort_values(ascending=False)[:10]"
   ]
  },
  {
   "cell_type": "code",
   "execution_count": null,
   "id": "52d4dec7",
   "metadata": {},
   "outputs": [],
   "source": [
    "fraud_train.groupby(['Full_Name'])['dist_same_origin_co-ord(kms)'].mean().sort_values(ascending=False)[:10]"
   ]
  },
  {
   "cell_type": "code",
   "execution_count": null,
   "id": "a62a3e13",
   "metadata": {},
   "outputs": [],
   "source": [
    "fraud_train.groupby(['merchant'])['dist_same_origin_co-ord(kms)'].mean().sort_values(ascending=False)[:10]"
   ]
  },
  {
   "cell_type": "code",
   "execution_count": null,
   "id": "df3a6c37",
   "metadata": {},
   "outputs": [],
   "source": [
    "fraud_train.groupby(['city'])['amt'].mean().sort_values(ascending=False)[:10]"
   ]
  },
  {
   "cell_type": "code",
   "execution_count": null,
   "id": "be99a95c",
   "metadata": {},
   "outputs": [],
   "source": [
    "fraud_train.groupby(['job'])['amt'].mean().sort_values(ascending=False)[:10]"
   ]
  },
  {
   "cell_type": "code",
   "execution_count": null,
   "id": "5165d70f",
   "metadata": {},
   "outputs": [],
   "source": [
    "round(100*df_train['is_fraud'].value_counts(normalize=True),2).plot(kind='bar', figsize=(6,4))\n"
   ]
  },
  {
   "cell_type": "code",
   "execution_count": null,
   "id": "43b21899",
   "metadata": {},
   "outputs": [],
   "source": [
    "round(100*df_test['is_fraud'].value_counts(normalize=True),2).plot(kind='bar', figsize=(6,4))\n"
   ]
  },
  {
   "cell_type": "code",
   "execution_count": null,
   "id": "a3e1c261",
   "metadata": {},
   "outputs": [],
   "source": [
    "sns.barplot(data=df_train, x='is_fraud', y='amt')\n"
   ]
  },
  {
   "cell_type": "code",
   "execution_count": null,
   "id": "df3d6cc2",
   "metadata": {},
   "outputs": [],
   "source": [
    "sns.stripplot( x = df_train['is_fraud'], y= df_train['amt'], data=df_train)"
   ]
  },
  {
   "cell_type": "code",
   "execution_count": null,
   "id": "23e99991",
   "metadata": {},
   "outputs": [],
   "source": [
    "df_train.groupby('gender')['is_fraud'].sum().sort_values(ascending=False).plot(kind='bar')"
   ]
  },
  {
   "cell_type": "code",
   "execution_count": null,
   "id": "560e0454",
   "metadata": {},
   "outputs": [],
   "source": [
    "fraud_train.groupby('week_day')['is_fraud'].sum().sort_values(ascending=False).plot(kind='bar', figsize=(20,5))"
   ]
  },
  {
   "cell_type": "code",
   "execution_count": null,
   "id": "af858b19",
   "metadata": {},
   "outputs": [],
   "source": [
    "fraud_train.groupby('month_name')['is_fraud'].sum().sort_values(ascending=False).plot(kind='bar', figsize=(20,5))"
   ]
  },
  {
   "cell_type": "code",
   "execution_count": null,
   "id": "7793d1f9",
   "metadata": {},
   "outputs": [],
   "source": [
    "plt.figure(figsize=(12,5))\n",
    "sns.distplot(df_train[df_train['is_fraud'] == 0][\"hr_day\"], color='g')\n",
    "sns.distplot(df_train[df_train['is_fraud'] == 1][\"hr_day\"], color='r')\n",
    "plt.title('Fraud x Normal Transactions by Hours', fontsize=17)\n"
   ]
  },
  {
   "cell_type": "code",
   "execution_count": null,
   "id": "22870a18",
   "metadata": {},
   "outputs": [],
   "source": [
    "#Looking the Amount and time distribuition of FRAUD transactions\n",
    "\n",
    "ax = sns.lmplot(y=\"amt\", x=\"week_no\", fit_reg=False,aspect=1.8, data=df_train, hue='is_fraud')\n",
    "plt.title(\"Amounts by days of Frauds and Normal Transactions\",fontsize=16)\n",
    "\n",
    "ax = sns.lmplot(y=\"amt\", x=\"min_day\", fit_reg=False,aspect=1.8, data=df_train, hue='is_fraud')\n",
    "plt.title(\"Amounts by hour of Frauds and Normal Transactions\",fontsize=16)"
   ]
  },
  {
   "cell_type": "code",
   "execution_count": null,
   "id": "fb80b5c8",
   "metadata": {},
   "outputs": [],
   "source": [
    "df_train_outlier = df_train.copy()\n",
    "df_test_outlier = df_test.copy()"
   ]
  },
  {
   "cell_type": "code",
   "execution_count": null,
   "id": "dd4ae2b4",
   "metadata": {},
   "outputs": [],
   "source": [
    "df_train_outlier[['amt','city_pop','age','weekday_no','week_no','day_no','min_day','hr_day','month','year','year_dayno','dist_same_origin_co-ord(kms)','distance_successive_co-ord(kms)','distance_people_to_merchant_co-ord(kms)','delta_time(sec)','delta_time_elapsed(days)']].describe(percentiles=[0.01, 0.05, 0.1, 0.25, 0.5, 0.75, 0.9, 0.95, 0.99]).apply(lambda s: s.apply('{0:.5f}'.format)) "
   ]
  },
  {
   "cell_type": "code",
   "execution_count": null,
   "id": "d615ccfa",
   "metadata": {},
   "outputs": [],
   "source": [
    "col_data1 = ['amt','city_pop','age','weekday_no','week_no','day_no','min_day','hr_day','month','year','year_dayno','dist_same_origin_co-ord(kms)','distance_successive_co-ord(kms)','distance_people_to_merchant_co-ord(kms)','delta_time(sec)','delta_time_elapsed(days)']\n",
    "\n",
    "plt.figure(figsize=(30,20))\n",
    "for i in enumerate(col_data1):\n",
    "    plt.subplot(4,4,i[0]+1)\n",
    "    sns.boxplot(df_train_outlier[i[1]])"
   ]
  },
  {
   "cell_type": "code",
   "execution_count": null,
   "id": "07c57188",
   "metadata": {},
   "outputs": [],
   "source": [
    "X_train, X_valid, y_train, y_valid = train_test_split(X, y, train_size=0.6, random_state=23, stratify=y)"
   ]
  },
  {
   "cell_type": "code",
   "execution_count": null,
   "id": "99bf2acb",
   "metadata": {},
   "outputs": [],
   "source": [
    "pt = PowerTransformer(copy=False)\n",
    "pt.fit_transform(X_train)\n",
    "pt.transform(X_valid)\n",
    "pt.transform(X_test)"
   ]
  },
  {
   "cell_type": "code",
   "execution_count": null,
   "id": "3064bdd5",
   "metadata": {},
   "outputs": [],
   "source": [
    "# Models\n",
    "model = list()\n",
    "# Balancing imbalanced data\n",
    "resample = list()\n",
    "# Precision\n",
    "precision = list()\n",
    "# Recall\n",
    "recall = list()\n",
    "# F1-Score\n",
    "F1score = list()\n",
    "# Area under ROC Curve\n",
    "AUCROC = list()"
   ]
  },
  {
   "cell_type": "code",
   "execution_count": null,
   "id": "55ccc085",
   "metadata": {},
   "outputs": [],
   "source": [
    "# Logistic Regression\n",
    "model_LR = LogisticRegression()\n",
    "# Random Forest\n",
    "model_RF = RandomForestClassifier(oob_score = True, random_state=23)"
   ]
  },
  {
   "cell_type": "code",
   "execution_count": null,
   "id": "0aaaab7c",
   "metadata": {},
   "outputs": [],
   "source": [
    "params_LR = {'C':np.logspace(-1, 5, 10), 'class_weight':[None,'balanced'], 'penalty':['l1','l2']}\n",
    "\n",
    "\n",
    "params_DT = {\n",
    "    'max_depth': [10, 20, 50, 100, 200],\n",
    "    'min_samples_leaf': [10, 20, 50, 100, 200],\n",
    "    'min_samples_split' : [10, 20, 50, 100, 200],\n",
    "    'criterion': [\"gini\", \"entropy\"]\n",
    "} \n",
    "\n",
    "\n",
    "# Not able to run hyperparameters for Random Forest because of crashing, hence choosing limited parameters\n",
    "params_RF = {    \n",
    "    'n_estimators': [50],\n",
    "    'max_depth': [50],\n",
    "    'min_samples_leaf': [200],\n",
    "    'min_samples_split' : [100],\n",
    "    'criterion': [\"gini\"]"
   ]
  },
  {
   "cell_type": "code",
   "execution_count": null,
   "id": "00accf24",
   "metadata": {},
   "outputs": [],
   "source": [
    "def model_fit_evaluation(model_model, params, X_train, y_train, X_test, y_test, algo=None, sampling=None):\n",
    "    \n",
    "    rcv = RandomizedSearchCV(model_model, params, cv=5, scoring='roc_auc', n_jobs=-1, verbose=1, random_state=23)\n",
    "    rcv.fit(X_train, y_train)\n",
    "    \n",
    "    print('\\n')\n",
    "    print('best estimator : ', rcv.best_estimator_)\n",
    "    print('best parameters: ', rcv.best_params_)\n",
    "    print('best score: ', rcv.best_score_)\n",
    "    print('\\n')\n",
    "\n",
    "    # Test set prediction\n",
    "    y_test_prob=(rcv.best_estimator_).predict_proba(X_test)\n",
    "    y_test_pred=(rcv.best_estimator_).predict(X_test)\n",
    "\n",
    "    print('Confusion Matrix')\n",
    "    print('='*60)\n",
    "    print(confusion_matrix(y_test, y_test_pred),\"\\n\")\n",
    "    print('Classification Report')\n",
    "    print('='*60) "
   ]
  },
  {
   "cell_type": "code",
   "execution_count": null,
   "id": "bb7b1d55",
   "metadata": {},
   "outputs": [],
   "source": [
    "model_fit_evaluation(model_LR, params_LR, X_train, y_train, X_valid, y_valid, 'Logistic Regression', 'actual')"
   ]
  },
  {
   "cell_type": "code",
   "execution_count": null,
   "id": "7abad49f",
   "metadata": {},
   "outputs": [],
   "source": [
    "non_fraud_train = df_train[df_train['is_fraud'] == 0]\n",
    "fraud_train = df_train[df_train['is_fraud'] == 1]\n",
    "\n",
    "non_fraud_test = df_test[df_test['is_fraud'] == 0]\n",
    "fraud_test = df_test[df_test['is_fraud'] == 1]"
   ]
  },
  {
   "cell_type": "code",
   "execution_count": null,
   "id": "490920d3",
   "metadata": {},
   "outputs": [],
   "source": [
    "Avg_no_transactions_per_month_train = len(df_train)/12\n",
    "Avg_no_transactions_per_month_train\n",
    "\n",
    "Avg_no_transactions_per_month_test = len(df_test)/12\n",
    "Avg_no_transactions_per_month_test"
   ]
  },
  {
   "cell_type": "code",
   "execution_count": null,
   "id": "c88dce99",
   "metadata": {},
   "outputs": [],
   "source": [
    "Avg_no_fraud_transactions_per_month_train = len(fraud_train)/12\n",
    "Avg_no_fraud_transactions_per_month_train\n",
    "\n",
    "Avg_no_fraud_transactions_per_month_test = len(fraud_test)/12\n",
    "Avg_no_fraud_transactions_per_month_test"
   ]
  },
  {
   "cell_type": "code",
   "execution_count": null,
   "id": "add04962",
   "metadata": {},
   "outputs": [],
   "source": [
    "Avg_amount_per_fraud_transactions_train = fraud_train['amt'].mean()\n",
    "Avg_amount_per_fraud_transactions_train\n",
    "Avg_amount_per_fraud_transactions_test = fraud_test['amt'].mean()\n",
    "Avg_amount_per_fraud_transactions_test"
   ]
  }
 ],
 "metadata": {
  "kernelspec": {
   "display_name": "Python 3 (ipykernel)",
   "language": "python",
   "name": "python3"
  },
  "language_info": {
   "codemirror_mode": {
    "name": "ipython",
    "version": 3
   },
   "file_extension": ".py",
   "mimetype": "text/x-python",
   "name": "python",
   "nbconvert_exporter": "python",
   "pygments_lexer": "ipython3",
   "version": "3.9.7"
  }
 },
 "nbformat": 4,
 "nbformat_minor": 5
}
